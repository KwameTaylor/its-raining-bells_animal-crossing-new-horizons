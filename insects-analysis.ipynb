{
 "cells": [
  {
   "cell_type": "markdown",
   "metadata": {},
   "source": [
    "# It's Raining Bells, Hallelujah!\n",
    "\n",
    "## A guide to living large in Animal Crossing: New Horizons\n",
    "\n",
    "### by Kwame V. Taylor\n",
    "\n",
    "It's Raining Bells, Hallelujah is data-driven guide to getting rich and staying rich with maximized efficiency on the Nintendo Switch video game, Animal Crossing: New Horizons.\n",
    "\n",
    "Bells are the currency used in the video game, Animal Crossing: New Horizons. Users can buy and sell items using bells, as well as exchange bells and items with both in-game characters (also known as Non-Playable Characters, or NPCs) and other users.\n",
    "\n",
    "<img src=\"https://mcsun.org/wp-content/uploads/2020/05/Banner-Animal-Crossing-New-Horizons.jpg\">\n",
    "\n",
    "## Insects Analysis"
   ]
  },
  {
   "cell_type": "markdown",
   "metadata": {},
   "source": [
    "### Set up environment"
   ]
  },
  {
   "cell_type": "code",
   "execution_count": 1,
   "metadata": {},
   "outputs": [],
   "source": [
    "import pandas as pd\n",
    "import numpy as np\n",
    "import matplotlib.pyplot as plt\n",
    "\n",
    "# default viz size settings\n",
    "plt.rc('figure', figsize=(9, 7))\n",
    "plt.rc('font', size=13)\n",
    "\n",
    "from dateutil import parser\n",
    "import datetime\n",
    "import re\n",
    "\n",
    "from wrangle import wrangle_insects"
   ]
  },
  {
   "cell_type": "markdown",
   "metadata": {},
   "source": [
    "### Acquire and Prepare Data"
   ]
  },
  {
   "cell_type": "markdown",
   "metadata": {},
   "source": [
    "Let's look at insects. I already know that people love to bank big on catching tarantulas and scorpions."
   ]
  },
  {
   "cell_type": "code",
   "execution_count": 24,
   "metadata": {},
   "outputs": [
    {
     "data": {
      "text/plain": [
       "True"
      ]
     },
     "execution_count": 24,
     "metadata": {},
     "output_type": "execute_result"
    }
   ],
   "source": [
    "insects = wrangle_insects()"
   ]
  },
  {
   "cell_type": "code",
   "execution_count": 3,
   "metadata": {},
   "outputs": [
    {
     "data": {
      "text/html": [
       "<div>\n",
       "<style scoped>\n",
       "    .dataframe tbody tr th:only-of-type {\n",
       "        vertical-align: middle;\n",
       "    }\n",
       "\n",
       "    .dataframe tbody tr th {\n",
       "        vertical-align: top;\n",
       "    }\n",
       "\n",
       "    .dataframe thead th {\n",
       "        text-align: right;\n",
       "    }\n",
       "</style>\n",
       "<table border=\"1\" class=\"dataframe\">\n",
       "  <thead>\n",
       "    <tr style=\"text-align: right;\">\n",
       "      <th></th>\n",
       "      <th>Name</th>\n",
       "      <th>Sell</th>\n",
       "      <th>Where/How</th>\n",
       "      <th>Weather</th>\n",
       "      <th>Total Catches to Unlock</th>\n",
       "      <th>Spawn Rates</th>\n",
       "      <th>NH Jan</th>\n",
       "      <th>NH Feb</th>\n",
       "      <th>NH Mar</th>\n",
       "      <th>NH Apr</th>\n",
       "      <th>...</th>\n",
       "      <th>SH May</th>\n",
       "      <th>SH Jun</th>\n",
       "      <th>SH Jul</th>\n",
       "      <th>SH Aug</th>\n",
       "      <th>SH Sep</th>\n",
       "      <th>SH Oct</th>\n",
       "      <th>SH Nov</th>\n",
       "      <th>SH Dec</th>\n",
       "      <th>Color 1</th>\n",
       "      <th>Color 2</th>\n",
       "    </tr>\n",
       "    <tr>\n",
       "      <th>#</th>\n",
       "      <th></th>\n",
       "      <th></th>\n",
       "      <th></th>\n",
       "      <th></th>\n",
       "      <th></th>\n",
       "      <th></th>\n",
       "      <th></th>\n",
       "      <th></th>\n",
       "      <th></th>\n",
       "      <th></th>\n",
       "      <th></th>\n",
       "      <th></th>\n",
       "      <th></th>\n",
       "      <th></th>\n",
       "      <th></th>\n",
       "      <th></th>\n",
       "      <th></th>\n",
       "      <th></th>\n",
       "      <th></th>\n",
       "      <th></th>\n",
       "      <th></th>\n",
       "    </tr>\n",
       "  </thead>\n",
       "  <tbody>\n",
       "    <tr>\n",
       "      <th>10</th>\n",
       "      <td>agrias butterfly</td>\n",
       "      <td>3000</td>\n",
       "      <td>Flying near flowers</td>\n",
       "      <td>Any except rain</td>\n",
       "      <td>20</td>\n",
       "      <td>5</td>\n",
       "      <td>0</td>\n",
       "      <td>0</td>\n",
       "      <td>0</td>\n",
       "      <td>8 AM – 5 PM</td>\n",
       "      <td>...</td>\n",
       "      <td>0</td>\n",
       "      <td>0</td>\n",
       "      <td>0</td>\n",
       "      <td>0</td>\n",
       "      <td>0</td>\n",
       "      <td>8 AM – 5 PM</td>\n",
       "      <td>8 AM – 5 PM</td>\n",
       "      <td>8 AM – 5 PM</td>\n",
       "      <td>Pink</td>\n",
       "      <td>Green</td>\n",
       "    </tr>\n",
       "    <tr>\n",
       "      <th>69</th>\n",
       "      <td>ant</td>\n",
       "      <td>80</td>\n",
       "      <td>On rotten turnips</td>\n",
       "      <td>Any weather</td>\n",
       "      <td>0</td>\n",
       "      <td>0</td>\n",
       "      <td>All day</td>\n",
       "      <td>All day</td>\n",
       "      <td>All day</td>\n",
       "      <td>All day</td>\n",
       "      <td>...</td>\n",
       "      <td>All day</td>\n",
       "      <td>All day</td>\n",
       "      <td>All day</td>\n",
       "      <td>All day</td>\n",
       "      <td>All day</td>\n",
       "      <td>All day</td>\n",
       "      <td>All day</td>\n",
       "      <td>All day</td>\n",
       "      <td>Black</td>\n",
       "      <td>White</td>\n",
       "    </tr>\n",
       "    <tr>\n",
       "      <th>14</th>\n",
       "      <td>Atlas moth</td>\n",
       "      <td>3000</td>\n",
       "      <td>On trees (any kind)</td>\n",
       "      <td>Any weather</td>\n",
       "      <td>20</td>\n",
       "      <td>5</td>\n",
       "      <td>0</td>\n",
       "      <td>0</td>\n",
       "      <td>0</td>\n",
       "      <td>7 PM – 4 AM</td>\n",
       "      <td>...</td>\n",
       "      <td>0</td>\n",
       "      <td>0</td>\n",
       "      <td>0</td>\n",
       "      <td>0</td>\n",
       "      <td>0</td>\n",
       "      <td>7 PM – 4 AM</td>\n",
       "      <td>7 PM – 4 AM</td>\n",
       "      <td>7 PM – 4 AM</td>\n",
       "      <td>Orange</td>\n",
       "      <td>Yellow</td>\n",
       "    </tr>\n",
       "  </tbody>\n",
       "</table>\n",
       "<p>3 rows × 32 columns</p>\n",
       "</div>"
      ],
      "text/plain": [
       "                Name  Sell            Where/How          Weather  \\\n",
       "#                                                                  \n",
       "10  agrias butterfly  3000  Flying near flowers  Any except rain   \n",
       "69               ant    80    On rotten turnips      Any weather   \n",
       "14        Atlas moth  3000  On trees (any kind)      Any weather   \n",
       "\n",
       "    Total Catches to Unlock  Spawn Rates   NH Jan   NH Feb   NH Mar  \\\n",
       "#                                                                     \n",
       "10                       20            5        0        0        0   \n",
       "69                        0            0  All day  All day  All day   \n",
       "14                       20            5        0        0        0   \n",
       "\n",
       "         NH Apr  ...   SH May   SH Jun   SH Jul   SH Aug   SH Sep  \\\n",
       "#                ...                                                \n",
       "10  8 AM – 5 PM  ...        0        0        0        0        0   \n",
       "69      All day  ...  All day  All day  All day  All day  All day   \n",
       "14  7 PM – 4 AM  ...        0        0        0        0        0   \n",
       "\n",
       "         SH Oct       SH Nov       SH Dec Color 1 Color 2  \n",
       "#                                                          \n",
       "10  8 AM – 5 PM  8 AM – 5 PM  8 AM – 5 PM    Pink   Green  \n",
       "69      All day      All day      All day   Black   White  \n",
       "14  7 PM – 4 AM  7 PM – 4 AM  7 PM – 4 AM  Orange  Yellow  \n",
       "\n",
       "[3 rows x 32 columns]"
      ]
     },
     "execution_count": 3,
     "metadata": {},
     "output_type": "execute_result"
    }
   ],
   "source": [
    "insects.head(3)"
   ]
  },
  {
   "cell_type": "markdown",
   "metadata": {},
   "source": [
    "### Convert appearance durations to timestamps"
   ]
  },
  {
   "cell_type": "markdown",
   "metadata": {},
   "source": [
    "Now I want to turn columns ```NH Jan``` (NH meaning Northern Hemisphere) through ```SH Dec``` (SH meaning Southern Hemisphere) into durational timestamps so I can perform time-series analysis.\n",
    "\n",
    "I'll use this guide as a reference: https://jakevdp.github.io/PythonDataScienceHandbook/03.11-working-with-time-series.html"
   ]
  },
  {
   "cell_type": "markdown",
   "metadata": {},
   "source": [
    "Parse into start_time and end_time new columns. Don't forget to get the months from the column names. I need to account for the 'All day's and the 0s I replaced the NaNs with."
   ]
  },
  {
   "cell_type": "code",
   "execution_count": 4,
   "metadata": {},
   "outputs": [
    {
     "data": {
      "text/plain": [
       "Index(['Name', 'Sell', 'Where/How', 'Weather', 'Total Catches to Unlock',\n",
       "       'Spawn Rates', 'NH Jan', 'NH Feb', 'NH Mar', 'NH Apr', 'NH May',\n",
       "       'NH Jun', 'NH Jul', 'NH Aug', 'NH Sep', 'NH Oct', 'NH Nov', 'NH Dec',\n",
       "       'SH Jan', 'SH Feb', 'SH Mar', 'SH Apr', 'SH May', 'SH Jun', 'SH Jul',\n",
       "       'SH Aug', 'SH Sep', 'SH Oct', 'SH Nov', 'SH Dec', 'Color 1', 'Color 2'],\n",
       "      dtype='object')"
      ]
     },
     "execution_count": 4,
     "metadata": {},
     "output_type": "execute_result"
    }
   ],
   "source": [
    "insects.columns"
   ]
  },
  {
   "cell_type": "code",
   "execution_count": 25,
   "metadata": {},
   "outputs": [
    {
     "data": {
      "text/plain": [
       "0               60\n",
       "All day         10\n",
       "7 PM – 8 AM      2\n",
       "7 PM – 4 AM      2\n",
       "4 PM – 11 PM     1\n",
       "5 PM – 8 AM      1\n",
       "11 PM – 4 PM     1\n",
       "8 AM – 5 PM      1\n",
       "8 AM – 7 PM      1\n",
       "4 AM – 7 PM      1\n",
       "Name: NH Jan, dtype: int64"
      ]
     },
     "execution_count": 25,
     "metadata": {},
     "output_type": "execute_result"
    }
   ],
   "source": [
    "insects['NH Jan'].value_counts()"
   ]
  },
  {
   "cell_type": "code",
   "execution_count": 31,
   "metadata": {},
   "outputs": [],
   "source": [
    "def get_start_and_end_times(df):\n",
    "    def handle_times(string):\n",
    "        # if the string is a time range\n",
    "        if string != 'All day' and string != 0:\n",
    "            return string.str.split(',')\n",
    "        elif string == 'All day':\n",
    "            return ['12 AM', '12 AM']\n",
    "        elif string == '0':\n",
    "            return ['8 AM', '8 AM']\n",
    "        else:\n",
    "            return \n",
    "\n",
    "    # passing function to apply and storing returned series overwriting old\n",
    "    month_cols = ['NH Jan', 'NH Feb', 'NH Mar', 'NH Apr', 'NH May', 'NH Jun', 'NH Jul', 'NH Aug', 'NH Sep', 'NH Oct', 'NH Nov', 'NH Dec', 'SH Jan', 'SH Feb', 'SH Mar', 'SH Apr', 'SH May', 'SH Jun', 'SH Jul', 'SH Aug', 'SH Sep', 'SH Oct', 'SH Nov', 'SH Dec']\n",
    "    for col in month_cols:\n",
    "        # replace the delimiter of '-' with ',' to make easier to split\n",
    "        df[col] = df[col].str.replace(\"\\W{2}\", \",\", regex=True)\n",
    "        # convert times into a two-element array represents the date range\n",
    "        df[col] = df[col].apply(handle_times)\n",
    "    \n",
    "    return df"
   ]
  },
  {
   "cell_type": "code",
   "execution_count": 32,
   "metadata": {},
   "outputs": [
    {
     "ename": "AttributeError",
     "evalue": "'float' object has no attribute 'str'",
     "output_type": "error",
     "traceback": [
      "\u001b[0;31m---------------------------------------------------------------------------\u001b[0m",
      "\u001b[0;31mAttributeError\u001b[0m                            Traceback (most recent call last)",
      "\u001b[0;32m<ipython-input-32-7a168b3c929b>\u001b[0m in \u001b[0;36m<module>\u001b[0;34m\u001b[0m\n\u001b[0;32m----> 1\u001b[0;31m \u001b[0minsects\u001b[0m \u001b[0;34m=\u001b[0m \u001b[0mget_start_and_end_times\u001b[0m\u001b[0;34m(\u001b[0m\u001b[0minsects\u001b[0m\u001b[0;34m)\u001b[0m\u001b[0;34m\u001b[0m\u001b[0;34m\u001b[0m\u001b[0m\n\u001b[0m",
      "\u001b[0;32m<ipython-input-31-bad047820e5d>\u001b[0m in \u001b[0;36mget_start_and_end_times\u001b[0;34m(df)\u001b[0m\n\u001b[1;32m     17\u001b[0m         \u001b[0mdf\u001b[0m\u001b[0;34m[\u001b[0m\u001b[0mcol\u001b[0m\u001b[0;34m]\u001b[0m \u001b[0;34m=\u001b[0m \u001b[0mdf\u001b[0m\u001b[0;34m[\u001b[0m\u001b[0mcol\u001b[0m\u001b[0;34m]\u001b[0m\u001b[0;34m.\u001b[0m\u001b[0mstr\u001b[0m\u001b[0;34m.\u001b[0m\u001b[0mreplace\u001b[0m\u001b[0;34m(\u001b[0m\u001b[0;34m\"\\W{2}\"\u001b[0m\u001b[0;34m,\u001b[0m \u001b[0;34m\",\"\u001b[0m\u001b[0;34m,\u001b[0m \u001b[0mregex\u001b[0m\u001b[0;34m=\u001b[0m\u001b[0;32mTrue\u001b[0m\u001b[0;34m)\u001b[0m\u001b[0;34m\u001b[0m\u001b[0;34m\u001b[0m\u001b[0m\n\u001b[1;32m     18\u001b[0m         \u001b[0;31m# convert times into a two-element array represents the date range\u001b[0m\u001b[0;34m\u001b[0m\u001b[0;34m\u001b[0m\u001b[0;34m\u001b[0m\u001b[0m\n\u001b[0;32m---> 19\u001b[0;31m         \u001b[0mdf\u001b[0m\u001b[0;34m[\u001b[0m\u001b[0mcol\u001b[0m\u001b[0;34m]\u001b[0m \u001b[0;34m=\u001b[0m \u001b[0mdf\u001b[0m\u001b[0;34m[\u001b[0m\u001b[0mcol\u001b[0m\u001b[0;34m]\u001b[0m\u001b[0;34m.\u001b[0m\u001b[0mapply\u001b[0m\u001b[0;34m(\u001b[0m\u001b[0mhandle_times\u001b[0m\u001b[0;34m)\u001b[0m\u001b[0;34m\u001b[0m\u001b[0;34m\u001b[0m\u001b[0m\n\u001b[0m\u001b[1;32m     20\u001b[0m \u001b[0;34m\u001b[0m\u001b[0m\n\u001b[1;32m     21\u001b[0m     \u001b[0;32mreturn\u001b[0m \u001b[0mdf\u001b[0m\u001b[0;34m\u001b[0m\u001b[0;34m\u001b[0m\u001b[0m\n",
      "\u001b[0;32m/usr/local/anaconda3/lib/python3.8/site-packages/pandas/core/series.py\u001b[0m in \u001b[0;36mapply\u001b[0;34m(self, func, convert_dtype, args, **kwds)\u001b[0m\n\u001b[1;32m   4210\u001b[0m             \u001b[0;32melse\u001b[0m\u001b[0;34m:\u001b[0m\u001b[0;34m\u001b[0m\u001b[0;34m\u001b[0m\u001b[0m\n\u001b[1;32m   4211\u001b[0m                 \u001b[0mvalues\u001b[0m \u001b[0;34m=\u001b[0m \u001b[0mself\u001b[0m\u001b[0;34m.\u001b[0m\u001b[0mastype\u001b[0m\u001b[0;34m(\u001b[0m\u001b[0mobject\u001b[0m\u001b[0;34m)\u001b[0m\u001b[0;34m.\u001b[0m\u001b[0m_values\u001b[0m\u001b[0;34m\u001b[0m\u001b[0;34m\u001b[0m\u001b[0m\n\u001b[0;32m-> 4212\u001b[0;31m                 \u001b[0mmapped\u001b[0m \u001b[0;34m=\u001b[0m \u001b[0mlib\u001b[0m\u001b[0;34m.\u001b[0m\u001b[0mmap_infer\u001b[0m\u001b[0;34m(\u001b[0m\u001b[0mvalues\u001b[0m\u001b[0;34m,\u001b[0m \u001b[0mf\u001b[0m\u001b[0;34m,\u001b[0m \u001b[0mconvert\u001b[0m\u001b[0;34m=\u001b[0m\u001b[0mconvert_dtype\u001b[0m\u001b[0;34m)\u001b[0m\u001b[0;34m\u001b[0m\u001b[0;34m\u001b[0m\u001b[0m\n\u001b[0m\u001b[1;32m   4213\u001b[0m \u001b[0;34m\u001b[0m\u001b[0m\n\u001b[1;32m   4214\u001b[0m         \u001b[0;32mif\u001b[0m \u001b[0mlen\u001b[0m\u001b[0;34m(\u001b[0m\u001b[0mmapped\u001b[0m\u001b[0;34m)\u001b[0m \u001b[0;32mand\u001b[0m \u001b[0misinstance\u001b[0m\u001b[0;34m(\u001b[0m\u001b[0mmapped\u001b[0m\u001b[0;34m[\u001b[0m\u001b[0;36m0\u001b[0m\u001b[0;34m]\u001b[0m\u001b[0;34m,\u001b[0m \u001b[0mSeries\u001b[0m\u001b[0;34m)\u001b[0m\u001b[0;34m:\u001b[0m\u001b[0;34m\u001b[0m\u001b[0;34m\u001b[0m\u001b[0m\n",
      "\u001b[0;32mpandas/_libs/lib.pyx\u001b[0m in \u001b[0;36mpandas._libs.lib.map_infer\u001b[0;34m()\u001b[0m\n",
      "\u001b[0;32m<ipython-input-31-bad047820e5d>\u001b[0m in \u001b[0;36mhandle_times\u001b[0;34m(string)\u001b[0m\n\u001b[1;32m      3\u001b[0m         \u001b[0;31m# if the string is a time range\u001b[0m\u001b[0;34m\u001b[0m\u001b[0;34m\u001b[0m\u001b[0;34m\u001b[0m\u001b[0m\n\u001b[1;32m      4\u001b[0m         \u001b[0;32mif\u001b[0m \u001b[0mstring\u001b[0m \u001b[0;34m!=\u001b[0m \u001b[0;34m'All day'\u001b[0m \u001b[0;32mand\u001b[0m \u001b[0mstring\u001b[0m \u001b[0;34m!=\u001b[0m \u001b[0;36m0\u001b[0m\u001b[0;34m:\u001b[0m\u001b[0;34m\u001b[0m\u001b[0;34m\u001b[0m\u001b[0m\n\u001b[0;32m----> 5\u001b[0;31m             \u001b[0;32mreturn\u001b[0m \u001b[0mstring\u001b[0m\u001b[0;34m.\u001b[0m\u001b[0mstr\u001b[0m\u001b[0;34m.\u001b[0m\u001b[0msplit\u001b[0m\u001b[0;34m(\u001b[0m\u001b[0;34m','\u001b[0m\u001b[0;34m)\u001b[0m\u001b[0;34m\u001b[0m\u001b[0;34m\u001b[0m\u001b[0m\n\u001b[0m\u001b[1;32m      6\u001b[0m         \u001b[0;32melif\u001b[0m \u001b[0mstring\u001b[0m \u001b[0;34m==\u001b[0m \u001b[0;34m'All day'\u001b[0m\u001b[0;34m:\u001b[0m\u001b[0;34m\u001b[0m\u001b[0;34m\u001b[0m\u001b[0m\n\u001b[1;32m      7\u001b[0m             \u001b[0;32mreturn\u001b[0m \u001b[0;34m[\u001b[0m\u001b[0;34m'12 AM'\u001b[0m\u001b[0;34m,\u001b[0m \u001b[0;34m'12 AM'\u001b[0m\u001b[0;34m]\u001b[0m\u001b[0;34m\u001b[0m\u001b[0;34m\u001b[0m\u001b[0m\n",
      "\u001b[0;31mAttributeError\u001b[0m: 'float' object has no attribute 'str'"
     ]
    }
   ],
   "source": [
    "insects = get_start_and_end_times(insects)"
   ]
  },
  {
   "cell_type": "code",
   "execution_count": 17,
   "metadata": {},
   "outputs": [
    {
     "name": "stdout",
     "output_type": "stream",
     "text": [
      "#\n",
      "10    8 AM, 5 PM\n",
      "69       All day\n",
      "14    7 PM, 4 AM\n",
      "68       All day\n",
      "34    8 AM, 5 PM\n",
      "         ...    \n",
      "67           NaN\n",
      "66           NaN\n",
      "25       All day\n",
      "71       All day\n",
      "2     4 AM, 7 PM\n",
      "Name: SH Dec, Length: 80, dtype: object\n",
      "#\n",
      "10    8 AM, 5 PM\n",
      "69       All day\n",
      "14    7 PM, 4 AM\n",
      "68       All day\n",
      "34    8 AM, 5 PM\n",
      "         ...    \n",
      "67           NaN\n",
      "66           NaN\n",
      "25       All day\n",
      "71       All day\n",
      "2     4 AM, 7 PM\n",
      "Name: SH Dec, Length: 80, dtype: object\n",
      "#\n",
      "10    8 AM, 5 PM\n",
      "69       All day\n",
      "14    7 PM, 4 AM\n",
      "68       All day\n",
      "34    8 AM, 5 PM\n",
      "         ...    \n",
      "67           NaN\n",
      "66           NaN\n",
      "25       All day\n",
      "71       All day\n",
      "2     4 AM, 7 PM\n",
      "Name: SH Dec, Length: 80, dtype: object\n",
      "#\n",
      "10    8 AM, 5 PM\n",
      "69       All day\n",
      "14    7 PM, 4 AM\n",
      "68       All day\n",
      "34    8 AM, 5 PM\n",
      "         ...    \n",
      "67           NaN\n",
      "66           NaN\n",
      "25       All day\n",
      "71       All day\n",
      "2     4 AM, 7 PM\n",
      "Name: SH Dec, Length: 80, dtype: object\n",
      "#\n",
      "10    8 AM, 5 PM\n",
      "69       All day\n",
      "14    7 PM, 4 AM\n",
      "68       All day\n",
      "34    8 AM, 5 PM\n",
      "         ...    \n",
      "67           NaN\n",
      "66           NaN\n",
      "25       All day\n",
      "71       All day\n",
      "2     4 AM, 7 PM\n",
      "Name: SH Dec, Length: 80, dtype: object\n",
      "#\n",
      "10    8 AM, 5 PM\n",
      "69       All day\n",
      "14    7 PM, 4 AM\n",
      "68       All day\n",
      "34    8 AM, 5 PM\n",
      "         ...    \n",
      "67           NaN\n",
      "66           NaN\n",
      "25       All day\n",
      "71       All day\n",
      "2     4 AM, 7 PM\n",
      "Name: SH Dec, Length: 80, dtype: object\n",
      "#\n",
      "10    8 AM, 5 PM\n",
      "69       All day\n",
      "14    7 PM, 4 AM\n",
      "68       All day\n",
      "34    8 AM, 5 PM\n",
      "         ...    \n",
      "67           NaN\n",
      "66           NaN\n",
      "25       All day\n",
      "71       All day\n",
      "2     4 AM, 7 PM\n",
      "Name: SH Dec, Length: 80, dtype: object\n",
      "#\n",
      "10    8 AM, 5 PM\n",
      "69       All day\n",
      "14    7 PM, 4 AM\n",
      "68       All day\n",
      "34    8 AM, 5 PM\n",
      "         ...    \n",
      "67           NaN\n",
      "66           NaN\n",
      "25       All day\n",
      "71       All day\n",
      "2     4 AM, 7 PM\n",
      "Name: SH Dec, Length: 80, dtype: object\n",
      "#\n",
      "10    8 AM, 5 PM\n",
      "69       All day\n",
      "14    7 PM, 4 AM\n",
      "68       All day\n",
      "34    8 AM, 5 PM\n",
      "         ...    \n",
      "67           NaN\n",
      "66           NaN\n",
      "25       All day\n",
      "71       All day\n",
      "2     4 AM, 7 PM\n",
      "Name: SH Dec, Length: 80, dtype: object\n",
      "#\n",
      "10    8 AM, 5 PM\n",
      "69       All day\n",
      "14    7 PM, 4 AM\n",
      "68       All day\n",
      "34    8 AM, 5 PM\n",
      "         ...    \n",
      "67           NaN\n",
      "66           NaN\n",
      "25       All day\n",
      "71       All day\n",
      "2     4 AM, 7 PM\n",
      "Name: SH Dec, Length: 80, dtype: object\n",
      "#\n",
      "10    8 AM, 5 PM\n",
      "69       All day\n",
      "14    7 PM, 4 AM\n",
      "68       All day\n",
      "34    8 AM, 5 PM\n",
      "         ...    \n",
      "67           NaN\n",
      "66           NaN\n",
      "25       All day\n",
      "71       All day\n",
      "2     4 AM, 7 PM\n",
      "Name: SH Dec, Length: 80, dtype: object\n",
      "#\n",
      "10    8 AM, 5 PM\n",
      "69       All day\n",
      "14    7 PM, 4 AM\n",
      "68       All day\n",
      "34    8 AM, 5 PM\n",
      "         ...    \n",
      "67           NaN\n",
      "66           NaN\n",
      "25       All day\n",
      "71       All day\n",
      "2     4 AM, 7 PM\n",
      "Name: SH Dec, Length: 80, dtype: object\n",
      "#\n",
      "10    8 AM, 5 PM\n",
      "69       All day\n",
      "14    7 PM, 4 AM\n",
      "68       All day\n",
      "34    8 AM, 5 PM\n",
      "         ...    \n",
      "67           NaN\n",
      "66           NaN\n",
      "25       All day\n",
      "71       All day\n",
      "2     4 AM, 7 PM\n",
      "Name: SH Dec, Length: 80, dtype: object\n",
      "#\n",
      "10    8 AM, 5 PM\n",
      "69       All day\n",
      "14    7 PM, 4 AM\n",
      "68       All day\n",
      "34    8 AM, 5 PM\n",
      "         ...    \n",
      "67           NaN\n",
      "66           NaN\n",
      "25       All day\n",
      "71       All day\n",
      "2     4 AM, 7 PM\n",
      "Name: SH Dec, Length: 80, dtype: object\n",
      "#\n",
      "10    8 AM, 5 PM\n",
      "69       All day\n",
      "14    7 PM, 4 AM\n",
      "68       All day\n",
      "34    8 AM, 5 PM\n",
      "         ...    \n",
      "67           NaN\n",
      "66           NaN\n",
      "25       All day\n",
      "71       All day\n",
      "2     4 AM, 7 PM\n",
      "Name: SH Dec, Length: 80, dtype: object\n",
      "#\n",
      "10    8 AM, 5 PM\n",
      "69       All day\n",
      "14    7 PM, 4 AM\n",
      "68       All day\n",
      "34    8 AM, 5 PM\n",
      "         ...    \n",
      "67           NaN\n",
      "66           NaN\n",
      "25       All day\n",
      "71       All day\n",
      "2     4 AM, 7 PM\n",
      "Name: SH Dec, Length: 80, dtype: object\n",
      "#\n",
      "10    8 AM, 5 PM\n",
      "69       All day\n",
      "14    7 PM, 4 AM\n",
      "68       All day\n",
      "34    8 AM, 5 PM\n",
      "         ...    \n",
      "67           NaN\n",
      "66           NaN\n",
      "25       All day\n",
      "71       All day\n",
      "2     4 AM, 7 PM\n",
      "Name: SH Dec, Length: 80, dtype: object\n",
      "#\n",
      "10    8 AM, 5 PM\n",
      "69       All day\n",
      "14    7 PM, 4 AM\n",
      "68       All day\n",
      "34    8 AM, 5 PM\n",
      "         ...    \n",
      "67           NaN\n",
      "66           NaN\n",
      "25       All day\n",
      "71       All day\n",
      "2     4 AM, 7 PM\n",
      "Name: SH Dec, Length: 80, dtype: object\n",
      "#\n",
      "10    8 AM, 5 PM\n",
      "69       All day\n",
      "14    7 PM, 4 AM\n",
      "68       All day\n",
      "34    8 AM, 5 PM\n",
      "         ...    \n",
      "67           NaN\n",
      "66           NaN\n",
      "25       All day\n",
      "71       All day\n",
      "2     4 AM, 7 PM\n",
      "Name: SH Dec, Length: 80, dtype: object\n",
      "#\n",
      "10    8 AM, 5 PM\n",
      "69       All day\n",
      "14    7 PM, 4 AM\n",
      "68       All day\n",
      "34    8 AM, 5 PM\n",
      "         ...    \n",
      "67           NaN\n",
      "66           NaN\n",
      "25       All day\n",
      "71       All day\n",
      "2     4 AM, 7 PM\n",
      "Name: SH Dec, Length: 80, dtype: object\n",
      "#\n",
      "10    8 AM, 5 PM\n",
      "69       All day\n",
      "14    7 PM, 4 AM\n",
      "68       All day\n",
      "34    8 AM, 5 PM\n",
      "         ...    \n",
      "67           NaN\n",
      "66           NaN\n",
      "25       All day\n",
      "71       All day\n",
      "2     4 AM, 7 PM\n",
      "Name: SH Dec, Length: 80, dtype: object\n",
      "#\n",
      "10    8 AM, 5 PM\n",
      "69       All day\n",
      "14    7 PM, 4 AM\n",
      "68       All day\n",
      "34    8 AM, 5 PM\n",
      "         ...    \n",
      "67           NaN\n",
      "66           NaN\n",
      "25       All day\n",
      "71       All day\n",
      "2     4 AM, 7 PM\n",
      "Name: SH Dec, Length: 80, dtype: object\n",
      "#\n",
      "10    8 AM, 5 PM\n",
      "69       All day\n",
      "14    7 PM, 4 AM\n",
      "68       All day\n",
      "34    8 AM, 5 PM\n",
      "         ...    \n",
      "67           NaN\n",
      "66           NaN\n",
      "25       All day\n",
      "71       All day\n",
      "2     4 AM, 7 PM\n",
      "Name: SH Dec, Length: 80, dtype: object\n",
      "#\n",
      "10    8 AM, 5 PM\n",
      "69       All day\n",
      "14    7 PM, 4 AM\n",
      "68       All day\n",
      "34    8 AM, 5 PM\n",
      "         ...    \n",
      "67           NaN\n",
      "66           NaN\n",
      "25       All day\n",
      "71       All day\n",
      "2     4 AM, 7 PM\n",
      "Name: SH Dec, Length: 80, dtype: object\n"
     ]
    }
   ],
   "source": [
    "# passing function to apply and storing returned series overwriting old\n",
    "df = insects\n",
    "month_cols = ['NH Jan', 'NH Feb', 'NH Mar', 'NH Apr', 'NH May', 'NH Jun', 'NH Jul', 'NH Aug', 'NH Sep', 'NH Oct', 'NH Nov', 'NH Dec', 'SH Jan', 'SH Feb', 'SH Mar', 'SH Apr', 'SH May', 'SH Jun', 'SH Jul', 'SH Aug', 'SH Sep', 'SH Oct', 'SH Nov', 'SH Dec']\n",
    "for col in month_cols:\n",
    "#    df[col] = \n",
    "    print(df[month].str.replace(\"\\W{2}\", \",\", regex=True))\n",
    "#    df[col] = \n",
    "#    print(df[col].apply(handle_times))"
   ]
  },
  {
   "cell_type": "code",
   "execution_count": 11,
   "metadata": {},
   "outputs": [
    {
     "ename": "TypeError",
     "evalue": "unhashable type: 'list'",
     "output_type": "error",
     "traceback": [
      "\u001b[0;31m---------------------------------------------------------------------------\u001b[0m",
      "\u001b[0;31mTypeError\u001b[0m                                 Traceback (most recent call last)",
      "\u001b[0;32mpandas/_libs/hashtable_class_helper.pxi\u001b[0m in \u001b[0;36mpandas._libs.hashtable.PyObjectHashTable.map_locations\u001b[0;34m()\u001b[0m\n",
      "\u001b[0;31mTypeError\u001b[0m: unhashable type: 'list'"
     ]
    },
    {
     "name": "stderr",
     "output_type": "stream",
     "text": [
      "Exception ignored in: 'pandas._libs.index.IndexEngine._call_map_locations'\n",
      "Traceback (most recent call last):\n",
      "  File \"pandas/_libs/hashtable_class_helper.pxi\", line 1709, in pandas._libs.hashtable.PyObjectHashTable.map_locations\n",
      "TypeError: unhashable type: 'list'\n"
     ]
    },
    {
     "data": {
      "text/plain": [
       "[12 AM, 12 AM]    10\n",
       "Name: NH Jan, dtype: int64"
      ]
     },
     "execution_count": 11,
     "metadata": {},
     "output_type": "execute_result"
    }
   ],
   "source": [
    "insects['NH Jan'].value_counts()"
   ]
  },
  {
   "cell_type": "markdown",
   "metadata": {},
   "source": [
    "Now convert into a Pandas date range."
   ]
  },
  {
   "cell_type": "code",
   "execution_count": null,
   "metadata": {},
   "outputs": [],
   "source": [
    "def convert_duration(df, col):\n",
    "    def get_month(string):\n",
    "        if col.contains('Jan'):\n",
    "        \n",
    "    df[col + ' Start'] = pd.date_range(start_date, end_date)"
   ]
  },
  {
   "cell_type": "code",
   "execution_count": null,
   "metadata": {},
   "outputs": [],
   "source": [
    "# convert strings 'NH Apr' plus '8 AM – 5 PM' to a timestamp\n",
    "\n",
    "start_date = parser.parse(\"April 1, 8 AM\")\n",
    "end_date = parser.parse(\"April 1, 5 PM\")\n",
    "\n",
    "start_date = parser.parse(\"April 1, 8 AM\")\n",
    "end_date = parser.parse(\"April 1, 5 PM\")"
   ]
  },
  {
   "cell_type": "code",
   "execution_count": null,
   "metadata": {},
   "outputs": [],
   "source": [
    "pd.date_range(start_date, end_date, freq='H')"
   ]
  },
  {
   "cell_type": "code",
   "execution_count": null,
   "metadata": {},
   "outputs": [],
   "source": [
    "def convert_duration(df, col):\n",
    "#    start_time = parser.parse(\"April 1, 8 AM\")\n",
    "#    end_time = parser.parse(\"April 1, 5 PM\")\n",
    "\n",
    "    start_date = datetime.date(year=2020, month=1, day=1)\n",
    "    end_date   = datetime.date(year=2021, month=1,  day=1)\n",
    "\n",
    "    current_date = start_date\n",
    "    # Iterating over all dates from start date until end date including end date (\"inclusive\")\n",
    "    while current_date <= end_date:\n",
    "        # comment on function\n",
    "        df[col + ' Converted'] = pd.date_range(start_time, end_time, freq='H')\n",
    "\n",
    "        # Advancing current date by one day\n",
    "        current_date += datetime.timedelta(days=1)"
   ]
  },
  {
   "cell_type": "markdown",
   "metadata": {},
   "source": [
    "Looks cleaned up enough to head into data exploration."
   ]
  },
  {
   "cell_type": "markdown",
   "metadata": {},
   "source": [
    "### Feature Engineering"
   ]
  },
  {
   "cell_type": "markdown",
   "metadata": {},
   "source": [
    "Spawn Rates explaination: https://www.reddit.com/r/AnimalCrossing/comments/gdl9p3/heres_a_chart_of_the_spawn_rates_of_every_fish/"
   ]
  },
  {
   "cell_type": "markdown",
   "metadata": {},
   "source": [
    "Added feature explaination to come here..."
   ]
  },
  {
   "cell_type": "code",
   "execution_count": null,
   "metadata": {},
   "outputs": [],
   "source": [
    "insects[\"SpawnRateSell\"] = (insects['Spawn Rates'] / 100) * insects.Sell"
   ]
  },
  {
   "cell_type": "markdown",
   "metadata": {},
   "source": [
    "### Exploratory Data Analysis"
   ]
  },
  {
   "cell_type": "code",
   "execution_count": null,
   "metadata": {},
   "outputs": [],
   "source": [
    "insects.describe()"
   ]
  },
  {
   "cell_type": "code",
   "execution_count": null,
   "metadata": {},
   "outputs": [],
   "source": [
    "moth_avg = insects[insects['Name'].str.contains('moth')].Sell.mean()\n",
    "butterfly_avg = insects[insects['Name'].str.contains('butterfly')].Sell.mean()\n",
    "beetle_avg = insects[insects['Name'].str.contains('beetle')].Sell.mean()\n",
    "dragonfly_avg = insects[insects['Name'].str.contains('dragonfly')].Sell.mean()\n",
    "stag_avg = insects[insects['Name'].str.contains('stag')].Sell.mean()\n",
    "cicada_avg = insects[insects['Name'].str.contains('cicada')].Sell.mean()\n",
    "horned_avg = insects[insects['Name'].str.contains('horned')].Sell.mean()\n",
    "cricket_avg = insects[insects['Name'].str.contains('cricket')].Sell.mean()"
   ]
  },
  {
   "cell_type": "code",
   "execution_count": null,
   "metadata": {},
   "outputs": [],
   "source": [
    "avg_worth_by_group_insects = pd.DataFrame([moth_avg, butterfly_avg, beetle_avg, dragonfly_avg, stag_avg, cicada_avg, horned_avg, cricket_avg], \n",
    "                                          ['moth', 'butterfly', 'beetle', 'dragonfly', 'stag', 'cicada', 'horned', 'cricket'])\n",
    "avg_worth_by_group_insects = avg_worth_by_group_insects.rename(columns={0: \"avg_worth\"})\n",
    "\n",
    "avg_worth_by_group_insects.sort_values(by=\"avg_worth\", ascending=False).plot.bar()\n",
    "plt.title(\"Average Sell Values of Insects by Group\")\n",
    "plt.xlabel(\"Insect Group\")\n",
    "plt.ylabel(\"Bells\")"
   ]
  },
  {
   "cell_type": "code",
   "execution_count": null,
   "metadata": {},
   "outputs": [],
   "source": [
    "insects.columns"
   ]
  },
  {
   "cell_type": "code",
   "execution_count": null,
   "metadata": {},
   "outputs": [],
   "source": [
    "insects[[\"SpawnRateSell\", 'Name']].set_index('Name').sort_values(by=\"SpawnRateSell\", ascending=False).head(12).plot.bar()\n",
    "\n",
    "plt.title(\"Spawn Rates / Value in Bells\")\n",
    "plt.xlabel(\"Insect\")\n",
    "plt.ylabel(\"Adjusted Value in Bells\")"
   ]
  },
  {
   "cell_type": "code",
   "execution_count": null,
   "metadata": {},
   "outputs": [],
   "source": [
    "#insects.sort_values(by=\"Spawn Rates\", ascending=False).tail(16)"
   ]
  },
  {
   "cell_type": "code",
   "execution_count": null,
   "metadata": {},
   "outputs": [],
   "source": [
    "#insects.sort_values(by=\"SpawnRateSell\", ascending=False).head(12)"
   ]
  },
  {
   "cell_type": "markdown",
   "metadata": {},
   "source": [
    "### Recommendations:\n",
    "\n",
    "Giant Stag and Firefly give the best value in bells for how frequently they appear.\n",
    "\n",
    "With the data that I've analyzed so far, I'd recommend hunting for bugs on the beach near palm trees."
   ]
  },
  {
   "cell_type": "code",
   "execution_count": null,
   "metadata": {},
   "outputs": [],
   "source": []
  }
 ],
 "metadata": {
  "kernelspec": {
   "display_name": "Python 3",
   "language": "python",
   "name": "python3"
  },
  "language_info": {
   "codemirror_mode": {
    "name": "ipython",
    "version": 3
   },
   "file_extension": ".py",
   "mimetype": "text/x-python",
   "name": "python",
   "nbconvert_exporter": "python",
   "pygments_lexer": "ipython3",
   "version": "3.8.3"
  }
 },
 "nbformat": 4,
 "nbformat_minor": 4
}
