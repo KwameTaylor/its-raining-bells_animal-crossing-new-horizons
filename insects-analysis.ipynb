{
 "cells": [
  {
   "cell_type": "markdown",
   "metadata": {},
   "source": [
    "# It's Raining Bells, Hallelujah!\n",
    "\n",
    "## A guide to living large in Animal Crossing: New Horizons\n",
    "\n",
    "### by Kwame V. Taylor\n",
    "\n",
    "It's Raining Bells, Hallelujah is data-driven guide to getting rich and staying rich with maximized efficiency on the Nintendo Switch video game, Animal Crossing: New Horizons.\n",
    "\n",
    "Bells are the currency used in the video game, Animal Crossing: New Horizons. Users can buy and sell items using bells, as well as exchange bells and items with both in-game characters (also known as Non-Playable Characters, or NPCs) and other users.\n",
    "\n",
    "<img src=\"https://mcsun.org/wp-content/uploads/2020/05/Banner-Animal-Crossing-New-Horizons.jpg\">\n",
    "\n",
    "## Insects Analysis"
   ]
  },
  {
   "cell_type": "markdown",
   "metadata": {},
   "source": [
    "### Set up environment"
   ]
  },
  {
   "cell_type": "code",
   "execution_count": 1,
   "metadata": {},
   "outputs": [],
   "source": [
    "import pandas as pd\n",
    "import numpy as np\n",
    "import matplotlib.pyplot as plt\n",
    "\n",
    "# default viz size settings\n",
    "plt.rc('figure', figsize=(9, 7))\n",
    "plt.rc('font', size=13)\n",
    "\n",
    "from dateutil import parser\n",
    "import datetime\n",
    "import re"
   ]
  },
  {
   "cell_type": "markdown",
   "metadata": {},
   "source": [
    "### Acquire data"
   ]
  },
  {
   "cell_type": "markdown",
   "metadata": {},
   "source": [
    "Let's look at insects. I already know that people love to bank big on catching tarantulas and scorpions."
   ]
  },
  {
   "cell_type": "code",
   "execution_count": 2,
   "metadata": {},
   "outputs": [],
   "source": [
    "insects = pd.read_csv('insects.csv')"
   ]
  },
  {
   "cell_type": "code",
   "execution_count": 3,
   "metadata": {},
   "outputs": [
    {
     "data": {
      "text/html": [
       "<div>\n",
       "<style scoped>\n",
       "    .dataframe tbody tr th:only-of-type {\n",
       "        vertical-align: middle;\n",
       "    }\n",
       "\n",
       "    .dataframe tbody tr th {\n",
       "        vertical-align: top;\n",
       "    }\n",
       "\n",
       "    .dataframe thead th {\n",
       "        text-align: right;\n",
       "    }\n",
       "</style>\n",
       "<table border=\"1\" class=\"dataframe\">\n",
       "  <thead>\n",
       "    <tr style=\"text-align: right;\">\n",
       "      <th></th>\n",
       "      <th>#</th>\n",
       "      <th>Name</th>\n",
       "      <th>Sell</th>\n",
       "      <th>Where/How</th>\n",
       "      <th>Weather</th>\n",
       "      <th>Total Catches to Unlock</th>\n",
       "      <th>Spawn Rates</th>\n",
       "      <th>NH Jan</th>\n",
       "      <th>NH Feb</th>\n",
       "      <th>NH Mar</th>\n",
       "      <th>...</th>\n",
       "      <th>SH Oct</th>\n",
       "      <th>SH Nov</th>\n",
       "      <th>SH Dec</th>\n",
       "      <th>Color 1</th>\n",
       "      <th>Color 2</th>\n",
       "      <th>Icon Filename</th>\n",
       "      <th>Critterpedia Filename</th>\n",
       "      <th>Furniture Filename</th>\n",
       "      <th>Internal ID</th>\n",
       "      <th>Unique Entry ID</th>\n",
       "    </tr>\n",
       "  </thead>\n",
       "  <tbody>\n",
       "    <tr>\n",
       "      <th>29</th>\n",
       "      <td>61</td>\n",
       "      <td>giraffe stag</td>\n",
       "      <td>12000</td>\n",
       "      <td>On palm trees</td>\n",
       "      <td>Any weather</td>\n",
       "      <td>100</td>\n",
       "      <td>1</td>\n",
       "      <td>NaN</td>\n",
       "      <td>NaN</td>\n",
       "      <td>NaN</td>\n",
       "      <td>...</td>\n",
       "      <td>NaN</td>\n",
       "      <td>NaN</td>\n",
       "      <td>NaN</td>\n",
       "      <td>Black</td>\n",
       "      <td>Black</td>\n",
       "      <td>Ins77</td>\n",
       "      <td>InsectGirafanokogirikuwagata</td>\n",
       "      <td>FtrInsectGirafanokogirikuwagata</td>\n",
       "      <td>3482</td>\n",
       "      <td>PSChjzMhGwhnsHTs4</td>\n",
       "    </tr>\n",
       "    <tr>\n",
       "      <th>30</th>\n",
       "      <td>60</td>\n",
       "      <td>golden stag</td>\n",
       "      <td>12000</td>\n",
       "      <td>On palm trees</td>\n",
       "      <td>Any weather</td>\n",
       "      <td>100</td>\n",
       "      <td>1</td>\n",
       "      <td>NaN</td>\n",
       "      <td>NaN</td>\n",
       "      <td>NaN</td>\n",
       "      <td>...</td>\n",
       "      <td>NaN</td>\n",
       "      <td>NaN</td>\n",
       "      <td>NaN</td>\n",
       "      <td>Black</td>\n",
       "      <td>Yellow</td>\n",
       "      <td>Ins50</td>\n",
       "      <td>InsectOugononikuwagata</td>\n",
       "      <td>FtrInsectOugononikuwagata</td>\n",
       "      <td>638</td>\n",
       "      <td>2C8cSphidFCBPxYEe</td>\n",
       "    </tr>\n",
       "    <tr>\n",
       "      <th>39</th>\n",
       "      <td>65</td>\n",
       "      <td>horned hercules</td>\n",
       "      <td>12000</td>\n",
       "      <td>On palm trees</td>\n",
       "      <td>Any weather</td>\n",
       "      <td>100</td>\n",
       "      <td>1</td>\n",
       "      <td>NaN</td>\n",
       "      <td>NaN</td>\n",
       "      <td>NaN</td>\n",
       "      <td>...</td>\n",
       "      <td>NaN</td>\n",
       "      <td>NaN</td>\n",
       "      <td>NaN</td>\n",
       "      <td>Yellow</td>\n",
       "      <td>Black</td>\n",
       "      <td>Ins54</td>\n",
       "      <td>InsectHerakuresuohkabuto</td>\n",
       "      <td>FtrInsectHerakuresuohkabuto</td>\n",
       "      <td>600</td>\n",
       "      <td>TqhEomNEMDZ2wcTpk</td>\n",
       "    </tr>\n",
       "    <tr>\n",
       "      <th>65</th>\n",
       "      <td>52</td>\n",
       "      <td>scarab beetle</td>\n",
       "      <td>10000</td>\n",
       "      <td>On trees (any kind)</td>\n",
       "      <td>Any weather</td>\n",
       "      <td>50</td>\n",
       "      <td>3</td>\n",
       "      <td>NaN</td>\n",
       "      <td>NaN</td>\n",
       "      <td>NaN</td>\n",
       "      <td>...</td>\n",
       "      <td>NaN</td>\n",
       "      <td>NaN</td>\n",
       "      <td>NaN</td>\n",
       "      <td>Black</td>\n",
       "      <td>Beige</td>\n",
       "      <td>Ins43</td>\n",
       "      <td>InsectPurachinakogane</td>\n",
       "      <td>FtrInsectPurachinakogane</td>\n",
       "      <td>639</td>\n",
       "      <td>2HXdFD8s6BmYYMf4u</td>\n",
       "    </tr>\n",
       "    <tr>\n",
       "      <th>27</th>\n",
       "      <td>57</td>\n",
       "      <td>giant stag</td>\n",
       "      <td>10000</td>\n",
       "      <td>On trees (any kind)</td>\n",
       "      <td>Any weather</td>\n",
       "      <td>50</td>\n",
       "      <td>5</td>\n",
       "      <td>NaN</td>\n",
       "      <td>NaN</td>\n",
       "      <td>NaN</td>\n",
       "      <td>...</td>\n",
       "      <td>NaN</td>\n",
       "      <td>NaN</td>\n",
       "      <td>NaN</td>\n",
       "      <td>Black</td>\n",
       "      <td>Black</td>\n",
       "      <td>Ins47</td>\n",
       "      <td>InsectOhkuwagata</td>\n",
       "      <td>FtrInsectOhkuwagata</td>\n",
       "      <td>637</td>\n",
       "      <td>KhrTLzayFz23zz2kn</td>\n",
       "    </tr>\n",
       "    <tr>\n",
       "      <th>31</th>\n",
       "      <td>54</td>\n",
       "      <td>goliath beetle</td>\n",
       "      <td>8000</td>\n",
       "      <td>On palm trees</td>\n",
       "      <td>Any weather</td>\n",
       "      <td>100</td>\n",
       "      <td>2</td>\n",
       "      <td>NaN</td>\n",
       "      <td>NaN</td>\n",
       "      <td>NaN</td>\n",
       "      <td>...</td>\n",
       "      <td>NaN</td>\n",
       "      <td>NaN</td>\n",
       "      <td>5 PM – 8 AM</td>\n",
       "      <td>Red</td>\n",
       "      <td>Black</td>\n",
       "      <td>Ins55</td>\n",
       "      <td>InsectGoraiasuohtsunohanamuguri</td>\n",
       "      <td>FtrInsectGoraiasuohtsunohanamuguri</td>\n",
       "      <td>596</td>\n",
       "      <td>wZQMZfhtRyPFAapmF</td>\n",
       "    </tr>\n",
       "  </tbody>\n",
       "</table>\n",
       "<p>6 rows × 38 columns</p>\n",
       "</div>"
      ],
      "text/plain": [
       "     #             Name   Sell            Where/How      Weather  \\\n",
       "29  61     giraffe stag  12000        On palm trees  Any weather   \n",
       "30  60      golden stag  12000        On palm trees  Any weather   \n",
       "39  65  horned hercules  12000        On palm trees  Any weather   \n",
       "65  52    scarab beetle  10000  On trees (any kind)  Any weather   \n",
       "27  57       giant stag  10000  On trees (any kind)  Any weather   \n",
       "31  54   goliath beetle   8000        On palm trees  Any weather   \n",
       "\n",
       "    Total Catches to Unlock Spawn Rates NH Jan NH Feb NH Mar  ... SH Oct  \\\n",
       "29                      100           1    NaN    NaN    NaN  ...    NaN   \n",
       "30                      100           1    NaN    NaN    NaN  ...    NaN   \n",
       "39                      100           1    NaN    NaN    NaN  ...    NaN   \n",
       "65                       50           3    NaN    NaN    NaN  ...    NaN   \n",
       "27                       50           5    NaN    NaN    NaN  ...    NaN   \n",
       "31                      100           2    NaN    NaN    NaN  ...    NaN   \n",
       "\n",
       "   SH Nov       SH Dec Color 1 Color 2 Icon Filename  \\\n",
       "29    NaN          NaN   Black   Black         Ins77   \n",
       "30    NaN          NaN   Black  Yellow         Ins50   \n",
       "39    NaN          NaN  Yellow   Black         Ins54   \n",
       "65    NaN          NaN   Black   Beige         Ins43   \n",
       "27    NaN          NaN   Black   Black         Ins47   \n",
       "31    NaN  5 PM – 8 AM     Red   Black         Ins55   \n",
       "\n",
       "              Critterpedia Filename                  Furniture Filename  \\\n",
       "29     InsectGirafanokogirikuwagata     FtrInsectGirafanokogirikuwagata   \n",
       "30           InsectOugononikuwagata           FtrInsectOugononikuwagata   \n",
       "39         InsectHerakuresuohkabuto         FtrInsectHerakuresuohkabuto   \n",
       "65            InsectPurachinakogane            FtrInsectPurachinakogane   \n",
       "27                 InsectOhkuwagata                 FtrInsectOhkuwagata   \n",
       "31  InsectGoraiasuohtsunohanamuguri  FtrInsectGoraiasuohtsunohanamuguri   \n",
       "\n",
       "   Internal ID    Unique Entry ID  \n",
       "29        3482  PSChjzMhGwhnsHTs4  \n",
       "30         638  2C8cSphidFCBPxYEe  \n",
       "39         600  TqhEomNEMDZ2wcTpk  \n",
       "65         639  2HXdFD8s6BmYYMf4u  \n",
       "27         637  KhrTLzayFz23zz2kn  \n",
       "31         596  wZQMZfhtRyPFAapmF  \n",
       "\n",
       "[6 rows x 38 columns]"
      ]
     },
     "execution_count": 3,
     "metadata": {},
     "output_type": "execute_result"
    }
   ],
   "source": [
    "insects.sort_values(by=\"Sell\", ascending=False).head(6)"
   ]
  },
  {
   "cell_type": "markdown",
   "metadata": {},
   "source": [
    "### Prepare data\n",
    "\n",
    "First I'll set the index to #."
   ]
  },
  {
   "cell_type": "code",
   "execution_count": 4,
   "metadata": {},
   "outputs": [],
   "source": [
    "insects = insects.set_index('#')"
   ]
  },
  {
   "cell_type": "markdown",
   "metadata": {},
   "source": [
    "Then I'll drop some of the columns I won't be using."
   ]
  },
  {
   "cell_type": "code",
   "execution_count": 5,
   "metadata": {},
   "outputs": [],
   "source": [
    "insects = insects.drop(columns=['Icon Filename', 'Critterpedia Filename', 'Furniture Filename',\n",
    "       'Internal ID', 'Unique Entry ID'])"
   ]
  },
  {
   "cell_type": "markdown",
   "metadata": {},
   "source": [
    "And impute NaNs with 0s for now."
   ]
  },
  {
   "cell_type": "code",
   "execution_count": 6,
   "metadata": {},
   "outputs": [],
   "source": [
    "insects = insects.fillna(0)"
   ]
  },
  {
   "cell_type": "code",
   "execution_count": 7,
   "metadata": {},
   "outputs": [
    {
     "data": {
      "text/plain": [
       "Name                       0\n",
       "Sell                       0\n",
       "Where/How                  0\n",
       "Weather                    0\n",
       "Total Catches to Unlock    0\n",
       "Spawn Rates                0\n",
       "NH Jan                     0\n",
       "NH Feb                     0\n",
       "NH Mar                     0\n",
       "NH Apr                     0\n",
       "NH May                     0\n",
       "NH Jun                     0\n",
       "NH Jul                     0\n",
       "NH Aug                     0\n",
       "NH Sep                     0\n",
       "NH Oct                     0\n",
       "NH Nov                     0\n",
       "NH Dec                     0\n",
       "SH Jan                     0\n",
       "SH Feb                     0\n",
       "SH Mar                     0\n",
       "SH Apr                     0\n",
       "SH May                     0\n",
       "SH Jun                     0\n",
       "SH Jul                     0\n",
       "SH Aug                     0\n",
       "SH Sep                     0\n",
       "SH Oct                     0\n",
       "SH Nov                     0\n",
       "SH Dec                     0\n",
       "Color 1                    0\n",
       "Color 2                    0\n",
       "dtype: int64"
      ]
     },
     "execution_count": 7,
     "metadata": {},
     "output_type": "execute_result"
    }
   ],
   "source": [
    "insects.isna().sum()"
   ]
  },
  {
   "cell_type": "markdown",
   "metadata": {},
   "source": [
    "Now I'll check data types."
   ]
  },
  {
   "cell_type": "code",
   "execution_count": 8,
   "metadata": {},
   "outputs": [
    {
     "name": "stdout",
     "output_type": "stream",
     "text": [
      "<class 'pandas.core.frame.DataFrame'>\n",
      "Int64Index: 80 entries, 10 to 2\n",
      "Data columns (total 32 columns):\n",
      " #   Column                   Non-Null Count  Dtype \n",
      "---  ------                   --------------  ----- \n",
      " 0   Name                     80 non-null     object\n",
      " 1   Sell                     80 non-null     int64 \n",
      " 2   Where/How                80 non-null     object\n",
      " 3   Weather                  80 non-null     object\n",
      " 4   Total Catches to Unlock  80 non-null     int64 \n",
      " 5   Spawn Rates              80 non-null     object\n",
      " 6   NH Jan                   80 non-null     object\n",
      " 7   NH Feb                   80 non-null     object\n",
      " 8   NH Mar                   80 non-null     object\n",
      " 9   NH Apr                   80 non-null     object\n",
      " 10  NH May                   80 non-null     object\n",
      " 11  NH Jun                   80 non-null     object\n",
      " 12  NH Jul                   80 non-null     object\n",
      " 13  NH Aug                   80 non-null     object\n",
      " 14  NH Sep                   80 non-null     object\n",
      " 15  NH Oct                   80 non-null     object\n",
      " 16  NH Nov                   80 non-null     object\n",
      " 17  NH Dec                   80 non-null     object\n",
      " 18  SH Jan                   80 non-null     object\n",
      " 19  SH Feb                   80 non-null     object\n",
      " 20  SH Mar                   80 non-null     object\n",
      " 21  SH Apr                   80 non-null     object\n",
      " 22  SH May                   80 non-null     object\n",
      " 23  SH Jun                   80 non-null     object\n",
      " 24  SH Jul                   80 non-null     object\n",
      " 25  SH Aug                   80 non-null     object\n",
      " 26  SH Sep                   80 non-null     object\n",
      " 27  SH Oct                   80 non-null     object\n",
      " 28  SH Nov                   80 non-null     object\n",
      " 29  SH Dec                   80 non-null     object\n",
      " 30  Color 1                  80 non-null     object\n",
      " 31  Color 2                  80 non-null     object\n",
      "dtypes: int64(2), object(30)\n",
      "memory usage: 20.6+ KB\n"
     ]
    }
   ],
   "source": [
    "insects.info()"
   ]
  },
  {
   "cell_type": "markdown",
   "metadata": {},
   "source": [
    "Spawn Rates needs to be an integer."
   ]
  },
  {
   "cell_type": "code",
   "execution_count": 9,
   "metadata": {},
   "outputs": [
    {
     "data": {
      "text/plain": [
       "5       11\n",
       "2        8\n",
       "30       7\n",
       "10       7\n",
       "50       6\n",
       "20       6\n",
       "60       6\n",
       "40       6\n",
       "70       4\n",
       "1        4\n",
       "0        3\n",
       "25       2\n",
       "35       2\n",
       "7        2\n",
       "15       2\n",
       "5–10     1\n",
       "80       1\n",
       "3        1\n",
       "200      1\n",
       "Name: Spawn Rates, dtype: int64"
      ]
     },
     "execution_count": 9,
     "metadata": {},
     "output_type": "execute_result"
    }
   ],
   "source": [
    "insects['Spawn Rates'].value_counts()"
   ]
  },
  {
   "cell_type": "markdown",
   "metadata": {},
   "source": [
    "Because one of the values is a range, I'm going to make it the average of the start and end values rounded to the nearest integer, which is 8."
   ]
  },
  {
   "cell_type": "code",
   "execution_count": 10,
   "metadata": {},
   "outputs": [],
   "source": [
    "insects['Spawn Rates'] = insects['Spawn Rates'].where(insects['Spawn Rates'] != '5–10', 8).astype(int)"
   ]
  },
  {
   "cell_type": "code",
   "execution_count": 11,
   "metadata": {},
   "outputs": [
    {
     "data": {
      "text/plain": [
       "5      11\n",
       "2       8\n",
       "10      7\n",
       "30      7\n",
       "20      6\n",
       "60      6\n",
       "50      6\n",
       "40      6\n",
       "70      4\n",
       "1       4\n",
       "0       3\n",
       "15      2\n",
       "7       2\n",
       "25      2\n",
       "35      2\n",
       "8       1\n",
       "200     1\n",
       "3       1\n",
       "80      1\n",
       "Name: Spawn Rates, dtype: int64"
      ]
     },
     "execution_count": 11,
     "metadata": {},
     "output_type": "execute_result"
    }
   ],
   "source": [
    "insects['Spawn Rates'].value_counts()"
   ]
  },
  {
   "cell_type": "code",
   "execution_count": 12,
   "metadata": {},
   "outputs": [
    {
     "data": {
      "text/html": [
       "<div>\n",
       "<style scoped>\n",
       "    .dataframe tbody tr th:only-of-type {\n",
       "        vertical-align: middle;\n",
       "    }\n",
       "\n",
       "    .dataframe tbody tr th {\n",
       "        vertical-align: top;\n",
       "    }\n",
       "\n",
       "    .dataframe thead th {\n",
       "        text-align: right;\n",
       "    }\n",
       "</style>\n",
       "<table border=\"1\" class=\"dataframe\">\n",
       "  <thead>\n",
       "    <tr style=\"text-align: right;\">\n",
       "      <th></th>\n",
       "      <th>Name</th>\n",
       "      <th>Sell</th>\n",
       "      <th>Where/How</th>\n",
       "      <th>Weather</th>\n",
       "      <th>Total Catches to Unlock</th>\n",
       "      <th>Spawn Rates</th>\n",
       "      <th>NH Jan</th>\n",
       "      <th>NH Feb</th>\n",
       "      <th>NH Mar</th>\n",
       "      <th>NH Apr</th>\n",
       "      <th>...</th>\n",
       "      <th>SH May</th>\n",
       "      <th>SH Jun</th>\n",
       "      <th>SH Jul</th>\n",
       "      <th>SH Aug</th>\n",
       "      <th>SH Sep</th>\n",
       "      <th>SH Oct</th>\n",
       "      <th>SH Nov</th>\n",
       "      <th>SH Dec</th>\n",
       "      <th>Color 1</th>\n",
       "      <th>Color 2</th>\n",
       "    </tr>\n",
       "    <tr>\n",
       "      <th>#</th>\n",
       "      <th></th>\n",
       "      <th></th>\n",
       "      <th></th>\n",
       "      <th></th>\n",
       "      <th></th>\n",
       "      <th></th>\n",
       "      <th></th>\n",
       "      <th></th>\n",
       "      <th></th>\n",
       "      <th></th>\n",
       "      <th></th>\n",
       "      <th></th>\n",
       "      <th></th>\n",
       "      <th></th>\n",
       "      <th></th>\n",
       "      <th></th>\n",
       "      <th></th>\n",
       "      <th></th>\n",
       "      <th></th>\n",
       "      <th></th>\n",
       "      <th></th>\n",
       "    </tr>\n",
       "  </thead>\n",
       "  <tbody>\n",
       "    <tr>\n",
       "      <th>10</th>\n",
       "      <td>agrias butterfly</td>\n",
       "      <td>3000</td>\n",
       "      <td>Flying near flowers</td>\n",
       "      <td>Any except rain</td>\n",
       "      <td>20</td>\n",
       "      <td>5</td>\n",
       "      <td>0</td>\n",
       "      <td>0</td>\n",
       "      <td>0</td>\n",
       "      <td>8 AM – 5 PM</td>\n",
       "      <td>...</td>\n",
       "      <td>0</td>\n",
       "      <td>0</td>\n",
       "      <td>0</td>\n",
       "      <td>0</td>\n",
       "      <td>0</td>\n",
       "      <td>8 AM – 5 PM</td>\n",
       "      <td>8 AM – 5 PM</td>\n",
       "      <td>8 AM – 5 PM</td>\n",
       "      <td>Pink</td>\n",
       "      <td>Green</td>\n",
       "    </tr>\n",
       "    <tr>\n",
       "      <th>69</th>\n",
       "      <td>ant</td>\n",
       "      <td>80</td>\n",
       "      <td>On rotten turnips</td>\n",
       "      <td>Any weather</td>\n",
       "      <td>0</td>\n",
       "      <td>0</td>\n",
       "      <td>All day</td>\n",
       "      <td>All day</td>\n",
       "      <td>All day</td>\n",
       "      <td>All day</td>\n",
       "      <td>...</td>\n",
       "      <td>All day</td>\n",
       "      <td>All day</td>\n",
       "      <td>All day</td>\n",
       "      <td>All day</td>\n",
       "      <td>All day</td>\n",
       "      <td>All day</td>\n",
       "      <td>All day</td>\n",
       "      <td>All day</td>\n",
       "      <td>Black</td>\n",
       "      <td>White</td>\n",
       "    </tr>\n",
       "    <tr>\n",
       "      <th>14</th>\n",
       "      <td>Atlas moth</td>\n",
       "      <td>3000</td>\n",
       "      <td>On trees (any kind)</td>\n",
       "      <td>Any weather</td>\n",
       "      <td>20</td>\n",
       "      <td>5</td>\n",
       "      <td>0</td>\n",
       "      <td>0</td>\n",
       "      <td>0</td>\n",
       "      <td>7 PM – 4 AM</td>\n",
       "      <td>...</td>\n",
       "      <td>0</td>\n",
       "      <td>0</td>\n",
       "      <td>0</td>\n",
       "      <td>0</td>\n",
       "      <td>0</td>\n",
       "      <td>7 PM – 4 AM</td>\n",
       "      <td>7 PM – 4 AM</td>\n",
       "      <td>7 PM – 4 AM</td>\n",
       "      <td>Orange</td>\n",
       "      <td>Yellow</td>\n",
       "    </tr>\n",
       "  </tbody>\n",
       "</table>\n",
       "<p>3 rows × 32 columns</p>\n",
       "</div>"
      ],
      "text/plain": [
       "                Name  Sell            Where/How          Weather  \\\n",
       "#                                                                  \n",
       "10  agrias butterfly  3000  Flying near flowers  Any except rain   \n",
       "69               ant    80    On rotten turnips      Any weather   \n",
       "14        Atlas moth  3000  On trees (any kind)      Any weather   \n",
       "\n",
       "    Total Catches to Unlock  Spawn Rates   NH Jan   NH Feb   NH Mar  \\\n",
       "#                                                                     \n",
       "10                       20            5        0        0        0   \n",
       "69                        0            0  All day  All day  All day   \n",
       "14                       20            5        0        0        0   \n",
       "\n",
       "         NH Apr  ...   SH May   SH Jun   SH Jul   SH Aug   SH Sep  \\\n",
       "#                ...                                                \n",
       "10  8 AM – 5 PM  ...        0        0        0        0        0   \n",
       "69      All day  ...  All day  All day  All day  All day  All day   \n",
       "14  7 PM – 4 AM  ...        0        0        0        0        0   \n",
       "\n",
       "         SH Oct       SH Nov       SH Dec Color 1 Color 2  \n",
       "#                                                          \n",
       "10  8 AM – 5 PM  8 AM – 5 PM  8 AM – 5 PM    Pink   Green  \n",
       "69      All day      All day      All day   Black   White  \n",
       "14  7 PM – 4 AM  7 PM – 4 AM  7 PM – 4 AM  Orange  Yellow  \n",
       "\n",
       "[3 rows x 32 columns]"
      ]
     },
     "execution_count": 12,
     "metadata": {},
     "output_type": "execute_result"
    }
   ],
   "source": [
    "insects.head(3)"
   ]
  },
  {
   "cell_type": "markdown",
   "metadata": {},
   "source": [
    "### Convert appearance durations to timestamps"
   ]
  },
  {
   "cell_type": "markdown",
   "metadata": {},
   "source": [
    "Now I want to turn the ```NH Jan``` (NH meaning Northern Hemisphere) to ```SH Dec``` (SH meaning Southern Hemisphere) into durational timestamps so I can perform time-series analysis.\n",
    "\n",
    "I'll use this guide as a reference: https://jakevdp.github.io/PythonDataScienceHandbook/03.11-working-with-time-series.html"
   ]
  },
  {
   "cell_type": "code",
   "execution_count": 13,
   "metadata": {},
   "outputs": [],
   "source": [
    "def convert_duration(df, col):\n",
    "    df[col + ' Converted'] = pd.date_range('2015-07-03', '2015-07-10')"
   ]
  },
  {
   "cell_type": "code",
   "execution_count": 39,
   "metadata": {},
   "outputs": [],
   "source": [
    "# convert strings 'NH Apr' plus '8 AM – 5 PM' to a timestamp... (unless it's a zero perhaps?)\n",
    "\n",
    "start_time = parser.parse(\"April 1, 8 AM\")\n",
    "end_time = parser.parse(\"April 1, 5 PM\")"
   ]
  },
  {
   "cell_type": "code",
   "execution_count": 41,
   "metadata": {},
   "outputs": [
    {
     "data": {
      "text/plain": [
       "DatetimeIndex(['2021-04-01 08:00:00', '2021-04-01 09:00:00',\n",
       "               '2021-04-01 10:00:00', '2021-04-01 11:00:00',\n",
       "               '2021-04-01 12:00:00', '2021-04-01 13:00:00',\n",
       "               '2021-04-01 14:00:00', '2021-04-01 15:00:00',\n",
       "               '2021-04-01 16:00:00', '2021-04-01 17:00:00'],\n",
       "              dtype='datetime64[ns]', freq='H')"
      ]
     },
     "execution_count": 41,
     "metadata": {},
     "output_type": "execute_result"
    }
   ],
   "source": [
    "pd.date_range(start_time, end_time, freq='H')"
   ]
  },
  {
   "cell_type": "markdown",
   "metadata": {},
   "source": [
    "Parse into start_time and end_time new columns. Use regex. Don't forget to get the months from the column names."
   ]
  },
  {
   "cell_type": "code",
   "execution_count": 60,
   "metadata": {},
   "outputs": [],
   "source": [
    "def get_start_and_end_times(df, col):\n",
    "#    strings = df[col]\n",
    "#    for string in strings:\n",
    "    for row in df[col]:\n",
    "        df[col + ' Converted'] = re.split(' – ', row)"
   ]
  },
  {
   "cell_type": "markdown",
   "metadata": {},
   "source": [
    "I need to account for the 'All day's and the 0s I replaced the NaNs with."
   ]
  },
  {
   "cell_type": "code",
   "execution_count": 67,
   "metadata": {},
   "outputs": [],
   "source": [
    "def get_start_and_end_times(df, col):\n",
    "#    strings = df[col]\n",
    "#    for string in strings:\n",
    "    for row in df[col]:\n",
    "        if row == 'All day':\n",
    "            df[col + ' Start and End Time'][row] = ['12 AM', '12 AM']\n",
    "        elif row == 0:\n",
    "            df[col + ' Start and End Time'][row] = ['8 AM', '8 AM']\n",
    "        else:\n",
    "            df[col + ' Start and End Time'][row] = re.split(' – ', row)"
   ]
  },
  {
   "cell_type": "code",
   "execution_count": 76,
   "metadata": {},
   "outputs": [
    {
     "data": {
      "text/plain": [
       "'All day'"
      ]
     },
     "execution_count": 76,
     "metadata": {},
     "output_type": "execute_result"
    }
   ],
   "source": [
    "test_df['NH Jan'][1]"
   ]
  },
  {
   "cell_type": "code",
   "execution_count": 68,
   "metadata": {},
   "outputs": [
    {
     "ename": "KeyError",
     "evalue": "'NH Jan Start and End Time'",
     "output_type": "error",
     "traceback": [
      "\u001b[0;31m---------------------------------------------------------------------------\u001b[0m",
      "\u001b[0;31mKeyError\u001b[0m                                  Traceback (most recent call last)",
      "\u001b[0;32m/usr/local/anaconda3/lib/python3.8/site-packages/pandas/core/indexes/base.py\u001b[0m in \u001b[0;36mget_loc\u001b[0;34m(self, key, method, tolerance)\u001b[0m\n\u001b[1;32m   2894\u001b[0m             \u001b[0;32mtry\u001b[0m\u001b[0;34m:\u001b[0m\u001b[0;34m\u001b[0m\u001b[0;34m\u001b[0m\u001b[0m\n\u001b[0;32m-> 2895\u001b[0;31m                 \u001b[0;32mreturn\u001b[0m \u001b[0mself\u001b[0m\u001b[0;34m.\u001b[0m\u001b[0m_engine\u001b[0m\u001b[0;34m.\u001b[0m\u001b[0mget_loc\u001b[0m\u001b[0;34m(\u001b[0m\u001b[0mcasted_key\u001b[0m\u001b[0;34m)\u001b[0m\u001b[0;34m\u001b[0m\u001b[0;34m\u001b[0m\u001b[0m\n\u001b[0m\u001b[1;32m   2896\u001b[0m             \u001b[0;32mexcept\u001b[0m \u001b[0mKeyError\u001b[0m \u001b[0;32mas\u001b[0m \u001b[0merr\u001b[0m\u001b[0;34m:\u001b[0m\u001b[0;34m\u001b[0m\u001b[0;34m\u001b[0m\u001b[0m\n",
      "\u001b[0;32mpandas/_libs/index.pyx\u001b[0m in \u001b[0;36mpandas._libs.index.IndexEngine.get_loc\u001b[0;34m()\u001b[0m\n",
      "\u001b[0;32mpandas/_libs/index.pyx\u001b[0m in \u001b[0;36mpandas._libs.index.IndexEngine.get_loc\u001b[0;34m()\u001b[0m\n",
      "\u001b[0;32mpandas/_libs/hashtable_class_helper.pxi\u001b[0m in \u001b[0;36mpandas._libs.hashtable.PyObjectHashTable.get_item\u001b[0;34m()\u001b[0m\n",
      "\u001b[0;32mpandas/_libs/hashtable_class_helper.pxi\u001b[0m in \u001b[0;36mpandas._libs.hashtable.PyObjectHashTable.get_item\u001b[0;34m()\u001b[0m\n",
      "\u001b[0;31mKeyError\u001b[0m: 'NH Jan Start and End Time'",
      "\nThe above exception was the direct cause of the following exception:\n",
      "\u001b[0;31mKeyError\u001b[0m                                  Traceback (most recent call last)",
      "\u001b[0;32m<ipython-input-68-2be1f86bedda>\u001b[0m in \u001b[0;36m<module>\u001b[0;34m\u001b[0m\n\u001b[0;32m----> 1\u001b[0;31m \u001b[0mget_start_and_end_times\u001b[0m\u001b[0;34m(\u001b[0m\u001b[0mtest_df\u001b[0m\u001b[0;34m,\u001b[0m \u001b[0;34m'NH Jan'\u001b[0m\u001b[0;34m)\u001b[0m\u001b[0;34m\u001b[0m\u001b[0;34m\u001b[0m\u001b[0m\n\u001b[0m",
      "\u001b[0;32m<ipython-input-67-a95087fa0062>\u001b[0m in \u001b[0;36mget_start_and_end_times\u001b[0;34m(df, col)\u001b[0m\n\u001b[1;32m      6\u001b[0m             \u001b[0mdf\u001b[0m\u001b[0;34m[\u001b[0m\u001b[0mcol\u001b[0m \u001b[0;34m+\u001b[0m \u001b[0;34m' Start and End Time'\u001b[0m\u001b[0;34m]\u001b[0m\u001b[0;34m[\u001b[0m\u001b[0mrow\u001b[0m\u001b[0;34m]\u001b[0m \u001b[0;34m=\u001b[0m \u001b[0;34m[\u001b[0m\u001b[0;34m'12 AM'\u001b[0m\u001b[0;34m,\u001b[0m \u001b[0;34m'12 AM'\u001b[0m\u001b[0;34m]\u001b[0m\u001b[0;34m\u001b[0m\u001b[0;34m\u001b[0m\u001b[0m\n\u001b[1;32m      7\u001b[0m         \u001b[0;32melif\u001b[0m \u001b[0mrow\u001b[0m \u001b[0;34m==\u001b[0m \u001b[0;36m0\u001b[0m\u001b[0;34m:\u001b[0m\u001b[0;34m\u001b[0m\u001b[0;34m\u001b[0m\u001b[0m\n\u001b[0;32m----> 8\u001b[0;31m             \u001b[0mdf\u001b[0m\u001b[0;34m[\u001b[0m\u001b[0mcol\u001b[0m \u001b[0;34m+\u001b[0m \u001b[0;34m' Start and End Time'\u001b[0m\u001b[0;34m]\u001b[0m\u001b[0;34m[\u001b[0m\u001b[0mrow\u001b[0m\u001b[0;34m]\u001b[0m \u001b[0;34m=\u001b[0m \u001b[0;34m[\u001b[0m\u001b[0;34m'8 AM'\u001b[0m\u001b[0;34m,\u001b[0m \u001b[0;34m'8 AM'\u001b[0m\u001b[0;34m]\u001b[0m\u001b[0;34m\u001b[0m\u001b[0;34m\u001b[0m\u001b[0m\n\u001b[0m\u001b[1;32m      9\u001b[0m         \u001b[0;32melse\u001b[0m\u001b[0;34m:\u001b[0m\u001b[0;34m\u001b[0m\u001b[0;34m\u001b[0m\u001b[0m\n\u001b[1;32m     10\u001b[0m             \u001b[0mdf\u001b[0m\u001b[0;34m[\u001b[0m\u001b[0mcol\u001b[0m \u001b[0;34m+\u001b[0m \u001b[0;34m' Start and End Time'\u001b[0m\u001b[0;34m]\u001b[0m\u001b[0;34m[\u001b[0m\u001b[0mrow\u001b[0m\u001b[0;34m]\u001b[0m \u001b[0;34m=\u001b[0m \u001b[0mre\u001b[0m\u001b[0;34m.\u001b[0m\u001b[0msplit\u001b[0m\u001b[0;34m(\u001b[0m\u001b[0;34m' – '\u001b[0m\u001b[0;34m,\u001b[0m \u001b[0mrow\u001b[0m\u001b[0;34m)\u001b[0m\u001b[0;34m\u001b[0m\u001b[0;34m\u001b[0m\u001b[0m\n",
      "\u001b[0;32m/usr/local/anaconda3/lib/python3.8/site-packages/pandas/core/frame.py\u001b[0m in \u001b[0;36m__getitem__\u001b[0;34m(self, key)\u001b[0m\n\u001b[1;32m   2904\u001b[0m             \u001b[0;32mif\u001b[0m \u001b[0mself\u001b[0m\u001b[0;34m.\u001b[0m\u001b[0mcolumns\u001b[0m\u001b[0;34m.\u001b[0m\u001b[0mnlevels\u001b[0m \u001b[0;34m>\u001b[0m \u001b[0;36m1\u001b[0m\u001b[0;34m:\u001b[0m\u001b[0;34m\u001b[0m\u001b[0;34m\u001b[0m\u001b[0m\n\u001b[1;32m   2905\u001b[0m                 \u001b[0;32mreturn\u001b[0m \u001b[0mself\u001b[0m\u001b[0;34m.\u001b[0m\u001b[0m_getitem_multilevel\u001b[0m\u001b[0;34m(\u001b[0m\u001b[0mkey\u001b[0m\u001b[0;34m)\u001b[0m\u001b[0;34m\u001b[0m\u001b[0;34m\u001b[0m\u001b[0m\n\u001b[0;32m-> 2906\u001b[0;31m             \u001b[0mindexer\u001b[0m \u001b[0;34m=\u001b[0m \u001b[0mself\u001b[0m\u001b[0;34m.\u001b[0m\u001b[0mcolumns\u001b[0m\u001b[0;34m.\u001b[0m\u001b[0mget_loc\u001b[0m\u001b[0;34m(\u001b[0m\u001b[0mkey\u001b[0m\u001b[0;34m)\u001b[0m\u001b[0;34m\u001b[0m\u001b[0;34m\u001b[0m\u001b[0m\n\u001b[0m\u001b[1;32m   2907\u001b[0m             \u001b[0;32mif\u001b[0m \u001b[0mis_integer\u001b[0m\u001b[0;34m(\u001b[0m\u001b[0mindexer\u001b[0m\u001b[0;34m)\u001b[0m\u001b[0;34m:\u001b[0m\u001b[0;34m\u001b[0m\u001b[0;34m\u001b[0m\u001b[0m\n\u001b[1;32m   2908\u001b[0m                 \u001b[0mindexer\u001b[0m \u001b[0;34m=\u001b[0m \u001b[0;34m[\u001b[0m\u001b[0mindexer\u001b[0m\u001b[0;34m]\u001b[0m\u001b[0;34m\u001b[0m\u001b[0;34m\u001b[0m\u001b[0m\n",
      "\u001b[0;32m/usr/local/anaconda3/lib/python3.8/site-packages/pandas/core/indexes/base.py\u001b[0m in \u001b[0;36mget_loc\u001b[0;34m(self, key, method, tolerance)\u001b[0m\n\u001b[1;32m   2895\u001b[0m                 \u001b[0;32mreturn\u001b[0m \u001b[0mself\u001b[0m\u001b[0;34m.\u001b[0m\u001b[0m_engine\u001b[0m\u001b[0;34m.\u001b[0m\u001b[0mget_loc\u001b[0m\u001b[0;34m(\u001b[0m\u001b[0mcasted_key\u001b[0m\u001b[0;34m)\u001b[0m\u001b[0;34m\u001b[0m\u001b[0;34m\u001b[0m\u001b[0m\n\u001b[1;32m   2896\u001b[0m             \u001b[0;32mexcept\u001b[0m \u001b[0mKeyError\u001b[0m \u001b[0;32mas\u001b[0m \u001b[0merr\u001b[0m\u001b[0;34m:\u001b[0m\u001b[0;34m\u001b[0m\u001b[0;34m\u001b[0m\u001b[0m\n\u001b[0;32m-> 2897\u001b[0;31m                 \u001b[0;32mraise\u001b[0m \u001b[0mKeyError\u001b[0m\u001b[0;34m(\u001b[0m\u001b[0mkey\u001b[0m\u001b[0;34m)\u001b[0m \u001b[0;32mfrom\u001b[0m \u001b[0merr\u001b[0m\u001b[0;34m\u001b[0m\u001b[0;34m\u001b[0m\u001b[0m\n\u001b[0m\u001b[1;32m   2898\u001b[0m \u001b[0;34m\u001b[0m\u001b[0m\n\u001b[1;32m   2899\u001b[0m         \u001b[0;32mif\u001b[0m \u001b[0mtolerance\u001b[0m \u001b[0;32mis\u001b[0m \u001b[0;32mnot\u001b[0m \u001b[0;32mNone\u001b[0m\u001b[0;34m:\u001b[0m\u001b[0;34m\u001b[0m\u001b[0;34m\u001b[0m\u001b[0m\n",
      "\u001b[0;31mKeyError\u001b[0m: 'NH Jan Start and End Time'"
     ]
    }
   ],
   "source": [
    "get_start_and_end_times(test_df, 'NH Jan')"
   ]
  },
  {
   "cell_type": "code",
   "execution_count": 62,
   "metadata": {},
   "outputs": [
    {
     "name": "stdout",
     "output_type": "stream",
     "text": [
      "0\n",
      "All day\n",
      "0\n",
      "All day\n",
      "0\n",
      "0\n",
      "0\n",
      "0\n",
      "4 PM – 11 PM\n",
      "0\n",
      "All day\n",
      "0\n",
      "4 AM – 7 PM\n",
      "0\n",
      "0\n",
      "All day\n",
      "0\n",
      "0\n",
      "0\n",
      "All day\n",
      "0\n",
      "5 PM – 8 AM\n",
      "0\n",
      "0\n",
      "0\n",
      "All day\n",
      "0\n",
      "0\n",
      "0\n",
      "0\n",
      "0\n",
      "0\n",
      "0\n",
      "0\n",
      "7 PM – 8 AM\n",
      "0\n",
      "0\n",
      "0\n",
      "0\n",
      "0\n",
      "0\n",
      "0\n",
      "0\n",
      "0\n",
      "0\n",
      "0\n",
      "0\n",
      "0\n",
      "All day\n",
      "0\n",
      "0\n",
      "7 PM – 4 AM\n",
      "0\n",
      "8 AM – 7 PM\n",
      "0\n",
      "11 PM – 4 PM\n",
      "0\n",
      "0\n",
      "0\n",
      "8 AM – 5 PM\n",
      "0\n",
      "0\n",
      "0\n",
      "0\n",
      "0\n",
      "0\n",
      "0\n",
      "All day\n",
      "7 PM – 8 AM\n",
      "0\n",
      "7 PM – 4 AM\n",
      "0\n",
      "0\n",
      "0\n",
      "0\n",
      "0\n",
      "0\n",
      "All day\n",
      "All day\n",
      "0\n"
     ]
    }
   ],
   "source": [
    "def get_start_and_end_times(df, col):\n",
    "#    strings = df[col]\n",
    "#    for string in strings:\n",
    "    for row in df[col]:\n",
    "        print(row)\n",
    "        \n",
    "get_start_and_end_times(insects, 'NH Jan')"
   ]
  },
  {
   "cell_type": "markdown",
   "metadata": {},
   "source": [
    "I need to account for the 'All day's and the 0s I replaced the NaNs with."
   ]
  },
  {
   "cell_type": "code",
   "execution_count": 71,
   "metadata": {},
   "outputs": [
    {
     "data": {
      "text/html": [
       "<div>\n",
       "<style scoped>\n",
       "    .dataframe tbody tr th:only-of-type {\n",
       "        vertical-align: middle;\n",
       "    }\n",
       "\n",
       "    .dataframe tbody tr th {\n",
       "        vertical-align: top;\n",
       "    }\n",
       "\n",
       "    .dataframe thead th {\n",
       "        text-align: right;\n",
       "    }\n",
       "</style>\n",
       "<table border=\"1\" class=\"dataframe\">\n",
       "  <thead>\n",
       "    <tr style=\"text-align: right;\">\n",
       "      <th></th>\n",
       "      <th>#</th>\n",
       "      <th>Name</th>\n",
       "      <th>Sell</th>\n",
       "      <th>Where/How</th>\n",
       "      <th>Weather</th>\n",
       "      <th>Total Catches to Unlock</th>\n",
       "      <th>Spawn Rates</th>\n",
       "      <th>NH Jan</th>\n",
       "      <th>NH Feb</th>\n",
       "      <th>NH Mar</th>\n",
       "      <th>...</th>\n",
       "      <th>SH Jun</th>\n",
       "      <th>SH Jul</th>\n",
       "      <th>SH Aug</th>\n",
       "      <th>SH Sep</th>\n",
       "      <th>SH Oct</th>\n",
       "      <th>SH Nov</th>\n",
       "      <th>SH Dec</th>\n",
       "      <th>Color 1</th>\n",
       "      <th>Color 2</th>\n",
       "      <th>SpawnRateSell</th>\n",
       "    </tr>\n",
       "  </thead>\n",
       "  <tbody>\n",
       "    <tr>\n",
       "      <th>0</th>\n",
       "      <td>10</td>\n",
       "      <td>agrias butterfly</td>\n",
       "      <td>3000</td>\n",
       "      <td>Flying near flowers</td>\n",
       "      <td>Any except rain</td>\n",
       "      <td>20</td>\n",
       "      <td>5</td>\n",
       "      <td>0</td>\n",
       "      <td>0</td>\n",
       "      <td>0</td>\n",
       "      <td>...</td>\n",
       "      <td>0</td>\n",
       "      <td>0</td>\n",
       "      <td>0</td>\n",
       "      <td>0</td>\n",
       "      <td>8 AM – 5 PM</td>\n",
       "      <td>8 AM – 5 PM</td>\n",
       "      <td>8 AM – 5 PM</td>\n",
       "      <td>Pink</td>\n",
       "      <td>Green</td>\n",
       "      <td>150.0</td>\n",
       "    </tr>\n",
       "    <tr>\n",
       "      <th>1</th>\n",
       "      <td>69</td>\n",
       "      <td>ant</td>\n",
       "      <td>80</td>\n",
       "      <td>On rotten turnips</td>\n",
       "      <td>Any weather</td>\n",
       "      <td>0</td>\n",
       "      <td>0</td>\n",
       "      <td>All day</td>\n",
       "      <td>All day</td>\n",
       "      <td>All day</td>\n",
       "      <td>...</td>\n",
       "      <td>All day</td>\n",
       "      <td>All day</td>\n",
       "      <td>All day</td>\n",
       "      <td>All day</td>\n",
       "      <td>All day</td>\n",
       "      <td>All day</td>\n",
       "      <td>All day</td>\n",
       "      <td>Black</td>\n",
       "      <td>White</td>\n",
       "      <td>0.0</td>\n",
       "    </tr>\n",
       "    <tr>\n",
       "      <th>2</th>\n",
       "      <td>14</td>\n",
       "      <td>Atlas moth</td>\n",
       "      <td>3000</td>\n",
       "      <td>On trees (any kind)</td>\n",
       "      <td>Any weather</td>\n",
       "      <td>20</td>\n",
       "      <td>5</td>\n",
       "      <td>0</td>\n",
       "      <td>0</td>\n",
       "      <td>0</td>\n",
       "      <td>...</td>\n",
       "      <td>0</td>\n",
       "      <td>0</td>\n",
       "      <td>0</td>\n",
       "      <td>0</td>\n",
       "      <td>7 PM – 4 AM</td>\n",
       "      <td>7 PM – 4 AM</td>\n",
       "      <td>7 PM – 4 AM</td>\n",
       "      <td>Orange</td>\n",
       "      <td>Yellow</td>\n",
       "      <td>150.0</td>\n",
       "    </tr>\n",
       "    <tr>\n",
       "      <th>3</th>\n",
       "      <td>68</td>\n",
       "      <td>bagworm</td>\n",
       "      <td>600</td>\n",
       "      <td>Shaking trees (hardwood or cedar only)</td>\n",
       "      <td>Any weather</td>\n",
       "      <td>0</td>\n",
       "      <td>50</td>\n",
       "      <td>All day</td>\n",
       "      <td>All day</td>\n",
       "      <td>All day</td>\n",
       "      <td>...</td>\n",
       "      <td>All day</td>\n",
       "      <td>All day</td>\n",
       "      <td>All day</td>\n",
       "      <td>All day</td>\n",
       "      <td>All day</td>\n",
       "      <td>All day</td>\n",
       "      <td>All day</td>\n",
       "      <td>Brown</td>\n",
       "      <td>Blue</td>\n",
       "      <td>300.0</td>\n",
       "    </tr>\n",
       "    <tr>\n",
       "      <th>4</th>\n",
       "      <td>34</td>\n",
       "      <td>banded dragonfly</td>\n",
       "      <td>4500</td>\n",
       "      <td>Flying near water</td>\n",
       "      <td>Any except rain</td>\n",
       "      <td>50</td>\n",
       "      <td>7</td>\n",
       "      <td>0</td>\n",
       "      <td>0</td>\n",
       "      <td>0</td>\n",
       "      <td>...</td>\n",
       "      <td>0</td>\n",
       "      <td>0</td>\n",
       "      <td>0</td>\n",
       "      <td>0</td>\n",
       "      <td>0</td>\n",
       "      <td>8 AM – 5 PM</td>\n",
       "      <td>8 AM – 5 PM</td>\n",
       "      <td>Black</td>\n",
       "      <td>Yellow</td>\n",
       "      <td>315.0</td>\n",
       "    </tr>\n",
       "    <tr>\n",
       "      <th>...</th>\n",
       "      <td>...</td>\n",
       "      <td>...</td>\n",
       "      <td>...</td>\n",
       "      <td>...</td>\n",
       "      <td>...</td>\n",
       "      <td>...</td>\n",
       "      <td>...</td>\n",
       "      <td>...</td>\n",
       "      <td>...</td>\n",
       "      <td>...</td>\n",
       "      <td>...</td>\n",
       "      <td>...</td>\n",
       "      <td>...</td>\n",
       "      <td>...</td>\n",
       "      <td>...</td>\n",
       "      <td>...</td>\n",
       "      <td>...</td>\n",
       "      <td>...</td>\n",
       "      <td>...</td>\n",
       "      <td>...</td>\n",
       "      <td>...</td>\n",
       "    </tr>\n",
       "    <tr>\n",
       "      <th>75</th>\n",
       "      <td>67</td>\n",
       "      <td>walking leaf</td>\n",
       "      <td>600</td>\n",
       "      <td>Disguised under trees</td>\n",
       "      <td>Any weather</td>\n",
       "      <td>20</td>\n",
       "      <td>10</td>\n",
       "      <td>0</td>\n",
       "      <td>0</td>\n",
       "      <td>0</td>\n",
       "      <td>...</td>\n",
       "      <td>0</td>\n",
       "      <td>0</td>\n",
       "      <td>0</td>\n",
       "      <td>0</td>\n",
       "      <td>0</td>\n",
       "      <td>0</td>\n",
       "      <td>0</td>\n",
       "      <td>Green</td>\n",
       "      <td>Green</td>\n",
       "      <td>60.0</td>\n",
       "    </tr>\n",
       "    <tr>\n",
       "      <th>76</th>\n",
       "      <td>66</td>\n",
       "      <td>walking stick</td>\n",
       "      <td>600</td>\n",
       "      <td>On trees (any kind)</td>\n",
       "      <td>Any weather</td>\n",
       "      <td>20</td>\n",
       "      <td>10</td>\n",
       "      <td>0</td>\n",
       "      <td>0</td>\n",
       "      <td>0</td>\n",
       "      <td>...</td>\n",
       "      <td>0</td>\n",
       "      <td>0</td>\n",
       "      <td>0</td>\n",
       "      <td>0</td>\n",
       "      <td>0</td>\n",
       "      <td>0</td>\n",
       "      <td>0</td>\n",
       "      <td>Brown</td>\n",
       "      <td>Yellow</td>\n",
       "      <td>60.0</td>\n",
       "    </tr>\n",
       "    <tr>\n",
       "      <th>77</th>\n",
       "      <td>25</td>\n",
       "      <td>wasp</td>\n",
       "      <td>2500</td>\n",
       "      <td>Shaking trees</td>\n",
       "      <td>Any weather</td>\n",
       "      <td>0</td>\n",
       "      <td>0</td>\n",
       "      <td>All day</td>\n",
       "      <td>All day</td>\n",
       "      <td>All day</td>\n",
       "      <td>...</td>\n",
       "      <td>All day</td>\n",
       "      <td>All day</td>\n",
       "      <td>All day</td>\n",
       "      <td>All day</td>\n",
       "      <td>All day</td>\n",
       "      <td>All day</td>\n",
       "      <td>All day</td>\n",
       "      <td>Yellow</td>\n",
       "      <td>Orange</td>\n",
       "      <td>0.0</td>\n",
       "    </tr>\n",
       "    <tr>\n",
       "      <th>78</th>\n",
       "      <td>71</td>\n",
       "      <td>wharf roach</td>\n",
       "      <td>200</td>\n",
       "      <td>On beach rocks</td>\n",
       "      <td>Any weather</td>\n",
       "      <td>0</td>\n",
       "      <td>20</td>\n",
       "      <td>All day</td>\n",
       "      <td>All day</td>\n",
       "      <td>All day</td>\n",
       "      <td>...</td>\n",
       "      <td>All day</td>\n",
       "      <td>All day</td>\n",
       "      <td>All day</td>\n",
       "      <td>All day</td>\n",
       "      <td>All day</td>\n",
       "      <td>All day</td>\n",
       "      <td>All day</td>\n",
       "      <td>Beige</td>\n",
       "      <td>Blue</td>\n",
       "      <td>40.0</td>\n",
       "    </tr>\n",
       "    <tr>\n",
       "      <th>79</th>\n",
       "      <td>2</td>\n",
       "      <td>yellow butterfly</td>\n",
       "      <td>160</td>\n",
       "      <td>Flying</td>\n",
       "      <td>Any except rain</td>\n",
       "      <td>0</td>\n",
       "      <td>60</td>\n",
       "      <td>0</td>\n",
       "      <td>0</td>\n",
       "      <td>4 AM – 7 PM</td>\n",
       "      <td>...</td>\n",
       "      <td>0</td>\n",
       "      <td>0</td>\n",
       "      <td>0</td>\n",
       "      <td>4 AM – 7 PM</td>\n",
       "      <td>4 AM – 7 PM</td>\n",
       "      <td>4 AM – 7 PM</td>\n",
       "      <td>4 AM – 7 PM</td>\n",
       "      <td>Yellow</td>\n",
       "      <td>Blue</td>\n",
       "      <td>96.0</td>\n",
       "    </tr>\n",
       "  </tbody>\n",
       "</table>\n",
       "<p>80 rows × 34 columns</p>\n",
       "</div>"
      ],
      "text/plain": [
       "     #              Name  Sell                               Where/How  \\\n",
       "0   10  agrias butterfly  3000                     Flying near flowers   \n",
       "1   69               ant    80                       On rotten turnips   \n",
       "2   14        Atlas moth  3000                     On trees (any kind)   \n",
       "3   68           bagworm   600  Shaking trees (hardwood or cedar only)   \n",
       "4   34  banded dragonfly  4500                       Flying near water   \n",
       "..  ..               ...   ...                                     ...   \n",
       "75  67      walking leaf   600                   Disguised under trees   \n",
       "76  66     walking stick   600                     On trees (any kind)   \n",
       "77  25              wasp  2500                           Shaking trees   \n",
       "78  71       wharf roach   200                          On beach rocks   \n",
       "79   2  yellow butterfly   160                                  Flying   \n",
       "\n",
       "            Weather  Total Catches to Unlock  Spawn Rates   NH Jan   NH Feb  \\\n",
       "0   Any except rain                       20            5        0        0   \n",
       "1       Any weather                        0            0  All day  All day   \n",
       "2       Any weather                       20            5        0        0   \n",
       "3       Any weather                        0           50  All day  All day   \n",
       "4   Any except rain                       50            7        0        0   \n",
       "..              ...                      ...          ...      ...      ...   \n",
       "75      Any weather                       20           10        0        0   \n",
       "76      Any weather                       20           10        0        0   \n",
       "77      Any weather                        0            0  All day  All day   \n",
       "78      Any weather                        0           20  All day  All day   \n",
       "79  Any except rain                        0           60        0        0   \n",
       "\n",
       "         NH Mar  ...   SH Jun   SH Jul   SH Aug       SH Sep       SH Oct  \\\n",
       "0             0  ...        0        0        0            0  8 AM – 5 PM   \n",
       "1       All day  ...  All day  All day  All day      All day      All day   \n",
       "2             0  ...        0        0        0            0  7 PM – 4 AM   \n",
       "3       All day  ...  All day  All day  All day      All day      All day   \n",
       "4             0  ...        0        0        0            0            0   \n",
       "..          ...  ...      ...      ...      ...          ...          ...   \n",
       "75            0  ...        0        0        0            0            0   \n",
       "76            0  ...        0        0        0            0            0   \n",
       "77      All day  ...  All day  All day  All day      All day      All day   \n",
       "78      All day  ...  All day  All day  All day      All day      All day   \n",
       "79  4 AM – 7 PM  ...        0        0        0  4 AM – 7 PM  4 AM – 7 PM   \n",
       "\n",
       "         SH Nov       SH Dec Color 1 Color 2 SpawnRateSell  \n",
       "0   8 AM – 5 PM  8 AM – 5 PM    Pink   Green         150.0  \n",
       "1       All day      All day   Black   White           0.0  \n",
       "2   7 PM – 4 AM  7 PM – 4 AM  Orange  Yellow         150.0  \n",
       "3       All day      All day   Brown    Blue         300.0  \n",
       "4   8 AM – 5 PM  8 AM – 5 PM   Black  Yellow         315.0  \n",
       "..          ...          ...     ...     ...           ...  \n",
       "75            0            0   Green   Green          60.0  \n",
       "76            0            0   Brown  Yellow          60.0  \n",
       "77      All day      All day  Yellow  Orange           0.0  \n",
       "78      All day      All day   Beige    Blue          40.0  \n",
       "79  4 AM – 7 PM  4 AM – 7 PM  Yellow    Blue          96.0  \n",
       "\n",
       "[80 rows x 34 columns]"
      ]
     },
     "execution_count": 71,
     "metadata": {},
     "output_type": "execute_result"
    }
   ],
   "source": [
    "test_df = insects.reset_index()\n",
    "#test_df = get_start_and_end_times(test_df, 'NH Jan')\n",
    "test_df"
   ]
  },
  {
   "cell_type": "code",
   "execution_count": null,
   "metadata": {},
   "outputs": [],
   "source": []
  },
  {
   "cell_type": "code",
   "execution_count": null,
   "metadata": {},
   "outputs": [],
   "source": [
    "def convert_duration(df, col):\n",
    "#    start_time = parser.parse(\"April 1, 8 AM\")\n",
    "#    end_time = parser.parse(\"April 1, 5 PM\")\n",
    "\n",
    "    start_date = datetime.date(year=2020, month=1, day=1)\n",
    "    end_date   = datetime.date(year=2021, month=1,  day=1)\n",
    "\n",
    "    current_date = start_date\n",
    "    # Iterating over all dates from start date until end date including end date (\"inclusive\")\n",
    "    while current_date <= end_date:\n",
    "        # comment on function\n",
    "        df[col + ' Converted'] = pd.date_range(start_time, end_time, freq='H')\n",
    "\n",
    "        # Advancing current date by one day\n",
    "        current_date += datetime.timedelta(days=1)"
   ]
  },
  {
   "cell_type": "code",
   "execution_count": 49,
   "metadata": {},
   "outputs": [
    {
     "data": {
      "text/plain": [
       "<re.Match object; span=(0, 4), match='8 AM'>"
      ]
     },
     "execution_count": 49,
     "metadata": {},
     "output_type": "execute_result"
    }
   ],
   "source": [
    "re.match('^\\d+( )..', '8 AM – 5 PM')"
   ]
  },
  {
   "cell_type": "code",
   "execution_count": 52,
   "metadata": {},
   "outputs": [],
   "source": [
    "re.match('\\d+( )..$', '8 AM – 5 PM')"
   ]
  },
  {
   "cell_type": "code",
   "execution_count": 55,
   "metadata": {},
   "outputs": [
    {
     "data": {
      "text/plain": [
       "['8 AM', '5 PM']"
      ]
     },
     "execution_count": 55,
     "metadata": {},
     "output_type": "execute_result"
    }
   ],
   "source": [
    "re.split(' – ', '8 AM – 5 PM')"
   ]
  },
  {
   "cell_type": "code",
   "execution_count": 77,
   "metadata": {},
   "outputs": [],
   "source": [
    "# Looks cleaned up enough to head into data exploration."
   ]
  },
  {
   "cell_type": "markdown",
   "metadata": {},
   "source": [
    "### Feature Engineering"
   ]
  },
  {
   "cell_type": "markdown",
   "metadata": {},
   "source": [
    "Spawn Rates explaination: https://www.reddit.com/r/AnimalCrossing/comments/gdl9p3/heres_a_chart_of_the_spawn_rates_of_every_fish/"
   ]
  },
  {
   "cell_type": "markdown",
   "metadata": {},
   "source": [
    "Added feature explaination to come here..."
   ]
  },
  {
   "cell_type": "code",
   "execution_count": 14,
   "metadata": {},
   "outputs": [],
   "source": [
    "insects[\"SpawnRateSell\"] = (insects['Spawn Rates'] / 100) * insects.Sell"
   ]
  },
  {
   "cell_type": "markdown",
   "metadata": {},
   "source": [
    "### Exploratory Data Analysis"
   ]
  },
  {
   "cell_type": "code",
   "execution_count": 15,
   "metadata": {},
   "outputs": [
    {
     "data": {
      "text/html": [
       "<div>\n",
       "<style scoped>\n",
       "    .dataframe tbody tr th:only-of-type {\n",
       "        vertical-align: middle;\n",
       "    }\n",
       "\n",
       "    .dataframe tbody tr th {\n",
       "        vertical-align: top;\n",
       "    }\n",
       "\n",
       "    .dataframe thead th {\n",
       "        text-align: right;\n",
       "    }\n",
       "</style>\n",
       "<table border=\"1\" class=\"dataframe\">\n",
       "  <thead>\n",
       "    <tr style=\"text-align: right;\">\n",
       "      <th></th>\n",
       "      <th>Sell</th>\n",
       "      <th>Total Catches to Unlock</th>\n",
       "      <th>Spawn Rates</th>\n",
       "      <th>SpawnRateSell</th>\n",
       "    </tr>\n",
       "  </thead>\n",
       "  <tbody>\n",
       "    <tr>\n",
       "      <th>count</th>\n",
       "      <td>80.000000</td>\n",
       "      <td>80.00000</td>\n",
       "      <td>80.000000</td>\n",
       "      <td>80.00000</td>\n",
       "    </tr>\n",
       "    <tr>\n",
       "      <th>mean</th>\n",
       "      <td>2220.500000</td>\n",
       "      <td>17.50000</td>\n",
       "      <td>26.375000</td>\n",
       "      <td>155.64625</td>\n",
       "    </tr>\n",
       "    <tr>\n",
       "      <th>std</th>\n",
       "      <td>3209.388877</td>\n",
       "      <td>30.08427</td>\n",
       "      <td>29.890253</td>\n",
       "      <td>120.97685</td>\n",
       "    </tr>\n",
       "    <tr>\n",
       "      <th>min</th>\n",
       "      <td>10.000000</td>\n",
       "      <td>0.00000</td>\n",
       "      <td>0.000000</td>\n",
       "      <td>0.00000</td>\n",
       "    </tr>\n",
       "    <tr>\n",
       "      <th>25%</th>\n",
       "      <td>237.500000</td>\n",
       "      <td>0.00000</td>\n",
       "      <td>5.000000</td>\n",
       "      <td>79.50000</td>\n",
       "    </tr>\n",
       "    <tr>\n",
       "      <th>50%</th>\n",
       "      <td>600.000000</td>\n",
       "      <td>0.00000</td>\n",
       "      <td>20.000000</td>\n",
       "      <td>125.00000</td>\n",
       "    </tr>\n",
       "    <tr>\n",
       "      <th>75%</th>\n",
       "      <td>2625.000000</td>\n",
       "      <td>20.00000</td>\n",
       "      <td>40.000000</td>\n",
       "      <td>200.00000</td>\n",
       "    </tr>\n",
       "    <tr>\n",
       "      <th>max</th>\n",
       "      <td>12000.000000</td>\n",
       "      <td>100.00000</td>\n",
       "      <td>200.000000</td>\n",
       "      <td>600.00000</td>\n",
       "    </tr>\n",
       "  </tbody>\n",
       "</table>\n",
       "</div>"
      ],
      "text/plain": [
       "               Sell  Total Catches to Unlock  Spawn Rates  SpawnRateSell\n",
       "count     80.000000                 80.00000    80.000000       80.00000\n",
       "mean    2220.500000                 17.50000    26.375000      155.64625\n",
       "std     3209.388877                 30.08427    29.890253      120.97685\n",
       "min       10.000000                  0.00000     0.000000        0.00000\n",
       "25%      237.500000                  0.00000     5.000000       79.50000\n",
       "50%      600.000000                  0.00000    20.000000      125.00000\n",
       "75%     2625.000000                 20.00000    40.000000      200.00000\n",
       "max    12000.000000                100.00000   200.000000      600.00000"
      ]
     },
     "execution_count": 15,
     "metadata": {},
     "output_type": "execute_result"
    }
   ],
   "source": [
    "insects.describe()"
   ]
  },
  {
   "cell_type": "code",
   "execution_count": 16,
   "metadata": {},
   "outputs": [],
   "source": [
    "moth_avg = insects[insects['Name'].str.contains('moth')].Sell.mean()\n",
    "butterfly_avg = insects[insects['Name'].str.contains('butterfly')].Sell.mean()\n",
    "beetle_avg = insects[insects['Name'].str.contains('beetle')].Sell.mean()\n",
    "dragonfly_avg = insects[insects['Name'].str.contains('dragonfly')].Sell.mean()\n",
    "stag_avg = insects[insects['Name'].str.contains('stag')].Sell.mean()\n",
    "cicada_avg = insects[insects['Name'].str.contains('cicada')].Sell.mean()\n",
    "horned_avg = insects[insects['Name'].str.contains('horned')].Sell.mean()\n",
    "cricket_avg = insects[insects['Name'].str.contains('cricket')].Sell.mean()"
   ]
  },
  {
   "cell_type": "code",
   "execution_count": 17,
   "metadata": {},
   "outputs": [
    {
     "data": {
      "text/plain": [
       "Text(0, 0.5, 'Bells')"
      ]
     },
     "execution_count": 17,
     "metadata": {},
     "output_type": "execute_result"
    },
    {
     "data": {
      "image/png": "[encoded data removed]",
      "text/plain": [
       "<Figure size 648x504 with 1 Axes>"
      ]
     },
     "metadata": {
      "needs_background": "light"
     },
     "output_type": "display_data"
    }
   ],
   "source": [
    "avg_worth_by_group_insects = pd.DataFrame([moth_avg, butterfly_avg, beetle_avg, dragonfly_avg, stag_avg, cicada_avg, horned_avg, cricket_avg], \n",
    "                                          ['moth', 'butterfly', 'beetle', 'dragonfly', 'stag', 'cicada', 'horned', 'cricket'])\n",
    "avg_worth_by_group_insects = avg_worth_by_group_insects.rename(columns={0: \"avg_worth\"})\n",
    "\n",
    "avg_worth_by_group_insects.sort_values(by=\"avg_worth\", ascending=False).plot.bar()\n",
    "plt.title(\"Average Sell Values of Insects by Group\")\n",
    "plt.xlabel(\"Insect Group\")\n",
    "plt.ylabel(\"Bells\")"
   ]
  },
  {
   "cell_type": "code",
   "execution_count": 18,
   "metadata": {},
   "outputs": [
    {
     "data": {
      "text/plain": [
       "Index(['Name', 'Sell', 'Where/How', 'Weather', 'Total Catches to Unlock',\n",
       "       'Spawn Rates', 'NH Jan', 'NH Feb', 'NH Mar', 'NH Apr', 'NH May',\n",
       "       'NH Jun', 'NH Jul', 'NH Aug', 'NH Sep', 'NH Oct', 'NH Nov', 'NH Dec',\n",
       "       'SH Jan', 'SH Feb', 'SH Mar', 'SH Apr', 'SH May', 'SH Jun', 'SH Jul',\n",
       "       'SH Aug', 'SH Sep', 'SH Oct', 'SH Nov', 'SH Dec', 'Color 1', 'Color 2',\n",
       "       'SpawnRateSell'],\n",
       "      dtype='object')"
      ]
     },
     "execution_count": 18,
     "metadata": {},
     "output_type": "execute_result"
    }
   ],
   "source": [
    "insects.columns"
   ]
  },
  {
   "cell_type": "code",
   "execution_count": 19,
   "metadata": {},
   "outputs": [
    {
     "data": {
      "text/plain": [
       "Text(0, 0.5, 'Adjusted Value in Bells')"
      ]
     },
     "execution_count": 19,
     "metadata": {},
     "output_type": "execute_result"
    },
    {
     "data": {
      "image/png": "[encoded data removed]",
      "text/plain": [
       "<Figure size 648x504 with 1 Axes>"
      ]
     },
     "metadata": {
      "needs_background": "light"
     },
     "output_type": "display_data"
    }
   ],
   "source": [
    "insects[[\"SpawnRateSell\", 'Name']].set_index('Name').sort_values(by=\"SpawnRateSell\", ascending=False).head(12).plot.bar()\n",
    "\n",
    "plt.title(\"Spawn Rates / Value in Bells\")\n",
    "plt.xlabel(\"Insect\")\n",
    "plt.ylabel(\"Adjusted Value in Bells\")"
   ]
  },
  {
   "cell_type": "code",
   "execution_count": 22,
   "metadata": {},
   "outputs": [],
   "source": [
    "#insects.sort_values(by=\"Spawn Rates\", ascending=False).tail(16)"
   ]
  },
  {
   "cell_type": "code",
   "execution_count": 23,
   "metadata": {},
   "outputs": [],
   "source": [
    "#insects.sort_values(by=\"SpawnRateSell\", ascending=False).head(12)"
   ]
  },
  {
   "cell_type": "markdown",
   "metadata": {},
   "source": [
    "### Recommendations:\n",
    "\n",
    "Giant Stag and Firefly give the best value in bells for how frequently they appear.\n",
    "\n",
    "With the data that I've analyzed so far, I'd recommend hunting for bugs on the beach near palm trees."
   ]
  },
  {
   "cell_type": "code",
   "execution_count": null,
   "metadata": {},
   "outputs": [],
   "source": []
  }
 ],
 "metadata": {
  "kernelspec": {
   "display_name": "Python 3",
   "language": "python",
   "name": "python3"
  },
  "language_info": {
   "codemirror_mode": {
    "name": "ipython",
    "version": 3
   },
   "file_extension": ".py",
   "mimetype": "text/x-python",
   "name": "python",
   "nbconvert_exporter": "python",
   "pygments_lexer": "ipython3",
   "version": "3.8.3"
  }
 },
 "nbformat": 4,
 "nbformat_minor": 4
}
