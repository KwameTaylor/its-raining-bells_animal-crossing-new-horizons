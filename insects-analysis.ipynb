{
 "cells": [
  {
   "cell_type": "markdown",
   "metadata": {},
   "source": [
    "# It's Raining Bells, Hallelujah!\n",
    "\n",
    "## A guide to living large in Animal Crossing: New Horizons\n",
    "\n",
    "### by Kwame V. Taylor\n",
    "\n",
    "It's Raining Bells, Hallelujah is data-driven guide to getting rich and staying rich with maximized efficiency on the Nintendo Switch video game, Animal Crossing: New Horizons.\n",
    "\n",
    "Bells are the currency used in the video game, Animal Crossing: New Horizons. Users can buy and sell items using bells, as well as exchange bells and items with both in-game characters (also known as Non-Playable Characters, or NPCs) and other users.\n",
    "\n",
    "<img src=\"https://mcsun.org/wp-content/uploads/2020/05/Banner-Animal-Crossing-New-Horizons.jpg\">\n",
    "\n",
    "## Insects Analysis"
   ]
  },
  {
   "cell_type": "markdown",
   "metadata": {},
   "source": [
    "### Set up environment"
   ]
  },
  {
   "cell_type": "code",
   "execution_count": 1,
   "metadata": {},
   "outputs": [],
   "source": [
    "import pandas as pd\n",
    "import numpy as np\n",
    "import matplotlib.pyplot as plt\n",
    "\n",
    "# default viz size settings\n",
    "plt.rc('figure', figsize=(9, 7))\n",
    "plt.rc('font', size=13)\n",
    "\n",
    "from dateutil import parser\n",
    "import datetime\n",
    "import re\n",
    "\n",
    "from wrangle import wrangle_insects"
   ]
  },
  {
   "cell_type": "code",
   "execution_count": 108,
   "metadata": {},
   "outputs": [],
   "source": [
    "def notnan(value):\n",
    "    try:\n",
    "        return False\n",
    "    except:\n",
    "        import math\n",
    "        return math.isnan(float(value))"
   ]
  },
  {
   "cell_type": "code",
   "execution_count": 109,
   "metadata": {},
   "outputs": [
    {
     "data": {
      "text/plain": [
       "False"
      ]
     },
     "execution_count": 109,
     "metadata": {},
     "output_type": "execute_result"
    }
   ],
   "source": [
    "notnan(8)"
   ]
  },
  {
   "cell_type": "markdown",
   "metadata": {},
   "source": [
    "### Acquire and Prepare Data"
   ]
  },
  {
   "cell_type": "markdown",
   "metadata": {},
   "source": [
    "Let's look at insects. I already know that people love to bank big on catching tarantulas and scorpions."
   ]
  },
  {
   "cell_type": "code",
   "execution_count": 114,
   "metadata": {},
   "outputs": [],
   "source": [
    "insects = wrangle_insects()"
   ]
  },
  {
   "cell_type": "code",
   "execution_count": 3,
   "metadata": {},
   "outputs": [
    {
     "data": {
      "text/html": [
       "<div>\n",
       "<style scoped>\n",
       "    .dataframe tbody tr th:only-of-type {\n",
       "        vertical-align: middle;\n",
       "    }\n",
       "\n",
       "    .dataframe tbody tr th {\n",
       "        vertical-align: top;\n",
       "    }\n",
       "\n",
       "    .dataframe thead th {\n",
       "        text-align: right;\n",
       "    }\n",
       "</style>\n",
       "<table border=\"1\" class=\"dataframe\">\n",
       "  <thead>\n",
       "    <tr style=\"text-align: right;\">\n",
       "      <th></th>\n",
       "      <th>Name</th>\n",
       "      <th>Sell</th>\n",
       "      <th>Where/How</th>\n",
       "      <th>Weather</th>\n",
       "      <th>Total Catches to Unlock</th>\n",
       "      <th>Spawn Rates</th>\n",
       "      <th>NH Jan</th>\n",
       "      <th>NH Feb</th>\n",
       "      <th>NH Mar</th>\n",
       "      <th>NH Apr</th>\n",
       "      <th>...</th>\n",
       "      <th>SH May</th>\n",
       "      <th>SH Jun</th>\n",
       "      <th>SH Jul</th>\n",
       "      <th>SH Aug</th>\n",
       "      <th>SH Sep</th>\n",
       "      <th>SH Oct</th>\n",
       "      <th>SH Nov</th>\n",
       "      <th>SH Dec</th>\n",
       "      <th>Color 1</th>\n",
       "      <th>Color 2</th>\n",
       "    </tr>\n",
       "    <tr>\n",
       "      <th>#</th>\n",
       "      <th></th>\n",
       "      <th></th>\n",
       "      <th></th>\n",
       "      <th></th>\n",
       "      <th></th>\n",
       "      <th></th>\n",
       "      <th></th>\n",
       "      <th></th>\n",
       "      <th></th>\n",
       "      <th></th>\n",
       "      <th></th>\n",
       "      <th></th>\n",
       "      <th></th>\n",
       "      <th></th>\n",
       "      <th></th>\n",
       "      <th></th>\n",
       "      <th></th>\n",
       "      <th></th>\n",
       "      <th></th>\n",
       "      <th></th>\n",
       "      <th></th>\n",
       "    </tr>\n",
       "  </thead>\n",
       "  <tbody>\n",
       "    <tr>\n",
       "      <th>10</th>\n",
       "      <td>agrias butterfly</td>\n",
       "      <td>3000</td>\n",
       "      <td>Flying near flowers</td>\n",
       "      <td>Any except rain</td>\n",
       "      <td>20</td>\n",
       "      <td>5</td>\n",
       "      <td>0</td>\n",
       "      <td>0</td>\n",
       "      <td>0</td>\n",
       "      <td>8 AM – 5 PM</td>\n",
       "      <td>...</td>\n",
       "      <td>0</td>\n",
       "      <td>0</td>\n",
       "      <td>0</td>\n",
       "      <td>0</td>\n",
       "      <td>0</td>\n",
       "      <td>8 AM – 5 PM</td>\n",
       "      <td>8 AM – 5 PM</td>\n",
       "      <td>8 AM – 5 PM</td>\n",
       "      <td>Pink</td>\n",
       "      <td>Green</td>\n",
       "    </tr>\n",
       "    <tr>\n",
       "      <th>69</th>\n",
       "      <td>ant</td>\n",
       "      <td>80</td>\n",
       "      <td>On rotten turnips</td>\n",
       "      <td>Any weather</td>\n",
       "      <td>0</td>\n",
       "      <td>0</td>\n",
       "      <td>All day</td>\n",
       "      <td>All day</td>\n",
       "      <td>All day</td>\n",
       "      <td>All day</td>\n",
       "      <td>...</td>\n",
       "      <td>All day</td>\n",
       "      <td>All day</td>\n",
       "      <td>All day</td>\n",
       "      <td>All day</td>\n",
       "      <td>All day</td>\n",
       "      <td>All day</td>\n",
       "      <td>All day</td>\n",
       "      <td>All day</td>\n",
       "      <td>Black</td>\n",
       "      <td>White</td>\n",
       "    </tr>\n",
       "    <tr>\n",
       "      <th>14</th>\n",
       "      <td>Atlas moth</td>\n",
       "      <td>3000</td>\n",
       "      <td>On trees (any kind)</td>\n",
       "      <td>Any weather</td>\n",
       "      <td>20</td>\n",
       "      <td>5</td>\n",
       "      <td>0</td>\n",
       "      <td>0</td>\n",
       "      <td>0</td>\n",
       "      <td>7 PM – 4 AM</td>\n",
       "      <td>...</td>\n",
       "      <td>0</td>\n",
       "      <td>0</td>\n",
       "      <td>0</td>\n",
       "      <td>0</td>\n",
       "      <td>0</td>\n",
       "      <td>7 PM – 4 AM</td>\n",
       "      <td>7 PM – 4 AM</td>\n",
       "      <td>7 PM – 4 AM</td>\n",
       "      <td>Orange</td>\n",
       "      <td>Yellow</td>\n",
       "    </tr>\n",
       "  </tbody>\n",
       "</table>\n",
       "<p>3 rows × 32 columns</p>\n",
       "</div>"
      ],
      "text/plain": [
       "                Name  Sell            Where/How          Weather  \\\n",
       "#                                                                  \n",
       "10  agrias butterfly  3000  Flying near flowers  Any except rain   \n",
       "69               ant    80    On rotten turnips      Any weather   \n",
       "14        Atlas moth  3000  On trees (any kind)      Any weather   \n",
       "\n",
       "    Total Catches to Unlock  Spawn Rates   NH Jan   NH Feb   NH Mar  \\\n",
       "#                                                                     \n",
       "10                       20            5        0        0        0   \n",
       "69                        0            0  All day  All day  All day   \n",
       "14                       20            5        0        0        0   \n",
       "\n",
       "         NH Apr  ...   SH May   SH Jun   SH Jul   SH Aug   SH Sep  \\\n",
       "#                ...                                                \n",
       "10  8 AM – 5 PM  ...        0        0        0        0        0   \n",
       "69      All day  ...  All day  All day  All day  All day  All day   \n",
       "14  7 PM – 4 AM  ...        0        0        0        0        0   \n",
       "\n",
       "         SH Oct       SH Nov       SH Dec Color 1 Color 2  \n",
       "#                                                          \n",
       "10  8 AM – 5 PM  8 AM – 5 PM  8 AM – 5 PM    Pink   Green  \n",
       "69      All day      All day      All day   Black   White  \n",
       "14  7 PM – 4 AM  7 PM – 4 AM  7 PM – 4 AM  Orange  Yellow  \n",
       "\n",
       "[3 rows x 32 columns]"
      ]
     },
     "execution_count": 3,
     "metadata": {},
     "output_type": "execute_result"
    }
   ],
   "source": [
    "insects.head(3)"
   ]
  },
  {
   "cell_type": "markdown",
   "metadata": {},
   "source": [
    "### Convert appearance durations to timestamps"
   ]
  },
  {
   "cell_type": "markdown",
   "metadata": {},
   "source": [
    "Now I want to turn columns ```NH Jan``` (NH meaning Northern Hemisphere) through ```SH Dec``` (SH meaning Southern Hemisphere) into durational timestamps so I can perform time-series analysis.\n",
    "\n",
    "I'll use this guide as a reference: https://jakevdp.github.io/PythonDataScienceHandbook/03.11-working-with-time-series.html"
   ]
  },
  {
   "cell_type": "markdown",
   "metadata": {},
   "source": [
    "Parse into start_time and end_time new columns. Don't forget to get the months from the column names. I need to account for the 'All day's and the 0s I replaced the NaNs with."
   ]
  },
  {
   "cell_type": "code",
   "execution_count": 115,
   "metadata": {},
   "outputs": [],
   "source": [
    "def get_start_and_end_times(df):\n",
    "    '''\n",
    "    Function to get the start and end times of the date range\n",
    "    in a way that prepares it to be converted to a pandas daterange.\n",
    "    '''\n",
    "    def handle_times(string):\n",
    "        # if the string is a time range\n",
    "        if string != 'All day' and string != np.nan:\n",
    "            return str(string).split(',')\n",
    "        # if string is 'All day'\n",
    "        elif string == 'All day':\n",
    "            return ['12 AM', '12 AM']\n",
    "        else:\n",
    "            return 0\n",
    "    \n",
    "    # passing function to apply and storing returned series overwriting old\n",
    "    month_cols = ['NH Jan', 'NH Feb', 'NH Mar', 'NH Apr', 'NH May', 'NH Jun', 'NH Jul', 'NH Aug', 'NH Sep', 'NH Oct', 'NH Nov', 'NH Dec', 'SH Jan', 'SH Feb', 'SH Mar', 'SH Apr', 'SH May', 'SH Jun', 'SH Jul', 'SH Aug', 'SH Sep', 'SH Oct', 'SH Nov', 'SH Dec']\n",
    "    for col in month_cols:\n",
    "        # replace the delimiter of '-' with ',' to make easier to split\n",
    "        df[col] = df[col].str.replace(\"\\W{3}\", \",\", regex=True)\n",
    "        # convert times into a two-element array represents the date range\n",
    "        df[col] = df[col].apply(handle_times)\n",
    "    \n",
    "    return df"
   ]
  },
  {
   "cell_type": "code",
   "execution_count": 116,
   "metadata": {},
   "outputs": [],
   "source": [
    "insects = get_start_and_end_times(insects)"
   ]
  },
  {
   "cell_type": "markdown",
   "metadata": {},
   "source": [
    "Now convert into a Pandas date range."
   ]
  },
  {
   "cell_type": "code",
   "execution_count": null,
   "metadata": {},
   "outputs": [],
   "source": [
    "def convert_duration(df, col):\n",
    "    def get_month(string):\n",
    "        if col.contains('Jan'):\n",
    "        \n",
    "    df[col + ' Start'] = pd.date_range(start_date, end_date)"
   ]
  },
  {
   "cell_type": "code",
   "execution_count": null,
   "metadata": {},
   "outputs": [],
   "source": [
    "# convert strings 'NH Apr' plus '8 AM – 5 PM' to a timestamp\n",
    "\n",
    "start_date = parser.parse(\"April 1, 8 AM\")\n",
    "end_date = parser.parse(\"April 1, 5 PM\")\n",
    "\n",
    "start_date = parser.parse(\"April 1, 8 AM\")\n",
    "end_date = parser.parse(\"April 1, 5 PM\")"
   ]
  },
  {
   "cell_type": "code",
   "execution_count": null,
   "metadata": {},
   "outputs": [],
   "source": [
    "pd.date_range(start_date, end_date, freq='H')"
   ]
  },
  {
   "cell_type": "code",
   "execution_count": null,
   "metadata": {},
   "outputs": [],
   "source": [
    "def convert_duration(df, col):\n",
    "#    start_time = parser.parse(\"April 1, 8 AM\")\n",
    "#    end_time = parser.parse(\"April 1, 5 PM\")\n",
    "\n",
    "    start_date = datetime.date(year=2020, month=1, day=1)\n",
    "    end_date   = datetime.date(year=2021, month=1,  day=1)\n",
    "\n",
    "    current_date = start_date\n",
    "    # Iterating over all dates from start date until end date including end date (\"inclusive\")\n",
    "    while current_date <= end_date:\n",
    "        # comment on function\n",
    "        df[col + ' Converted'] = pd.date_range(start_time, end_time, freq='H')\n",
    "\n",
    "        # Advancing current date by one day\n",
    "        current_date += datetime.timedelta(days=1)"
   ]
  },
  {
   "cell_type": "markdown",
   "metadata": {},
   "source": [
    "Looks cleaned up enough to head into data exploration."
   ]
  },
  {
   "cell_type": "markdown",
   "metadata": {},
   "source": [
    "### Feature Engineering"
   ]
  },
  {
   "cell_type": "markdown",
   "metadata": {},
   "source": [
    "Spawn Rates explaination: https://www.reddit.com/r/AnimalCrossing/comments/gdl9p3/heres_a_chart_of_the_spawn_rates_of_every_fish/"
   ]
  },
  {
   "cell_type": "markdown",
   "metadata": {},
   "source": [
    "Added feature explaination to come here..."
   ]
  },
  {
   "cell_type": "code",
   "execution_count": null,
   "metadata": {},
   "outputs": [],
   "source": [
    "insects[\"SpawnRateSell\"] = (insects['Spawn Rates'] / 100) * insects.Sell"
   ]
  },
  {
   "cell_type": "markdown",
   "metadata": {},
   "source": [
    "### Exploratory Data Analysis"
   ]
  },
  {
   "cell_type": "code",
   "execution_count": null,
   "metadata": {},
   "outputs": [],
   "source": [
    "insects.describe()"
   ]
  },
  {
   "cell_type": "code",
   "execution_count": null,
   "metadata": {},
   "outputs": [],
   "source": [
    "moth_avg = insects[insects['Name'].str.contains('moth')].Sell.mean()\n",
    "butterfly_avg = insects[insects['Name'].str.contains('butterfly')].Sell.mean()\n",
    "beetle_avg = insects[insects['Name'].str.contains('beetle')].Sell.mean()\n",
    "dragonfly_avg = insects[insects['Name'].str.contains('dragonfly')].Sell.mean()\n",
    "stag_avg = insects[insects['Name'].str.contains('stag')].Sell.mean()\n",
    "cicada_avg = insects[insects['Name'].str.contains('cicada')].Sell.mean()\n",
    "horned_avg = insects[insects['Name'].str.contains('horned')].Sell.mean()\n",
    "cricket_avg = insects[insects['Name'].str.contains('cricket')].Sell.mean()"
   ]
  },
  {
   "cell_type": "code",
   "execution_count": null,
   "metadata": {},
   "outputs": [],
   "source": [
    "avg_worth_by_group_insects = pd.DataFrame([moth_avg, butterfly_avg, beetle_avg, dragonfly_avg, stag_avg, cicada_avg, horned_avg, cricket_avg], \n",
    "                                          ['moth', 'butterfly', 'beetle', 'dragonfly', 'stag', 'cicada', 'horned', 'cricket'])\n",
    "avg_worth_by_group_insects = avg_worth_by_group_insects.rename(columns={0: \"avg_worth\"})\n",
    "\n",
    "avg_worth_by_group_insects.sort_values(by=\"avg_worth\", ascending=False).plot.bar()\n",
    "plt.title(\"Average Sell Values of Insects by Group\")\n",
    "plt.xlabel(\"Insect Group\")\n",
    "plt.ylabel(\"Bells\")"
   ]
  },
  {
   "cell_type": "code",
   "execution_count": null,
   "metadata": {},
   "outputs": [],
   "source": [
    "insects.columns"
   ]
  },
  {
   "cell_type": "code",
   "execution_count": null,
   "metadata": {},
   "outputs": [],
   "source": [
    "insects[[\"SpawnRateSell\", 'Name']].set_index('Name').sort_values(by=\"SpawnRateSell\", ascending=False).head(12).plot.bar()\n",
    "\n",
    "plt.title(\"Spawn Rates / Value in Bells\")\n",
    "plt.xlabel(\"Insect\")\n",
    "plt.ylabel(\"Adjusted Value in Bells\")"
   ]
  },
  {
   "cell_type": "code",
   "execution_count": null,
   "metadata": {},
   "outputs": [],
   "source": [
    "#insects.sort_values(by=\"Spawn Rates\", ascending=False).tail(16)"
   ]
  },
  {
   "cell_type": "code",
   "execution_count": null,
   "metadata": {},
   "outputs": [],
   "source": [
    "#insects.sort_values(by=\"SpawnRateSell\", ascending=False).head(12)"
   ]
  },
  {
   "cell_type": "markdown",
   "metadata": {},
   "source": [
    "### Recommendations:\n",
    "\n",
    "Giant Stag and Firefly give the best value in bells for how frequently they appear.\n",
    "\n",
    "With the data that I've analyzed so far, I'd recommend hunting for bugs on the beach near palm trees."
   ]
  },
  {
   "cell_type": "code",
   "execution_count": null,
   "metadata": {},
   "outputs": [],
   "source": []
  }
 ],
 "metadata": {
  "kernelspec": {
   "display_name": "Python 3",
   "language": "python",
   "name": "python3"
  },
  "language_info": {
   "codemirror_mode": {
    "name": "ipython",
    "version": 3
   },
   "file_extension": ".py",
   "mimetype": "text/x-python",
   "name": "python",
   "nbconvert_exporter": "python",
   "pygments_lexer": "ipython3",
   "version": "3.8.3"
  }
 },
 "nbformat": 4,
 "nbformat_minor": 4
}
